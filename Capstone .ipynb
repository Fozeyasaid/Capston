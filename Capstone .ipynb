{
 "cells": [
  {
   "cell_type": "markdown",
   "id": "3325e0bf",
   "metadata": {},
   "source": [
    "# Healthy Life Expectancy Capstone Project"
   ]
  },
  {
   "cell_type": "markdown",
   "id": "d90c1514",
   "metadata": {},
   "source": [
    "Import Labraries"
   ]
  },
  {
   "cell_type": "code",
   "execution_count": 1,
   "id": "0e6c0230",
   "metadata": {},
   "outputs": [],
   "source": [
    "import numpy as np\n",
    "import pandas as pd\n",
    "import matplotlib.pyplot as plt\n",
    "import seaborn as sns\n",
    "cmaps = 'oranges'\n",
    "#plt.style.use('dark_background')\n",
    "%matplotlib inline"
   ]
  },
  {
   "cell_type": "markdown",
   "id": "3fd2cfe3",
   "metadata": {},
   "source": [
    "Read data"
   ]
  },
  {
   "cell_type": "code",
   "execution_count": 2,
   "id": "3032381f",
   "metadata": {},
   "outputs": [],
   "source": [
    "# All the tables edited and organzied by excel sheet also.\n",
    "# data's Year = {1990, 2000,2012,2013}"
   ]
  },
  {
   "cell_type": "code",
   "execution_count": 3,
   "id": "200b857d",
   "metadata": {},
   "outputs": [],
   "source": [
    "#Table #1"
   ]
  },
  {
   "cell_type": "code",
   "execution_count": 4,
   "id": "30d493a2",
   "metadata": {},
   "outputs": [
    {
     "data": {
      "text/html": [
       "<div>\n",
       "<style scoped>\n",
       "    .dataframe tbody tr th:only-of-type {\n",
       "        vertical-align: middle;\n",
       "    }\n",
       "\n",
       "    .dataframe tbody tr th {\n",
       "        vertical-align: top;\n",
       "    }\n",
       "\n",
       "    .dataframe thead th {\n",
       "        text-align: right;\n",
       "    }\n",
       "</style>\n",
       "<table border=\"1\" class=\"dataframe\">\n",
       "  <thead>\n",
       "    <tr style=\"text-align: right;\">\n",
       "      <th></th>\n",
       "      <th>GhoCode</th>\n",
       "      <th>GhoDisplay</th>\n",
       "      <th>YearDisplay</th>\n",
       "      <th>RegionDisplay</th>\n",
       "      <th>WorldBankIncomeGroupDisplay</th>\n",
       "      <th>CountryDisplay</th>\n",
       "      <th>SexDisplay</th>\n",
       "      <th>DisplayValue</th>\n",
       "    </tr>\n",
       "  </thead>\n",
       "  <tbody>\n",
       "    <tr>\n",
       "      <th>0</th>\n",
       "      <td>WHOSIS_000015</td>\n",
       "      <td>Life expectancy at age 60 (years)</td>\n",
       "      <td>2000</td>\n",
       "      <td>Eastern Mediterranean</td>\n",
       "      <td>Low_income</td>\n",
       "      <td>Afghanistan</td>\n",
       "      <td>Female</td>\n",
       "      <td>16</td>\n",
       "    </tr>\n",
       "    <tr>\n",
       "      <th>1</th>\n",
       "      <td>WHOSIS_000001</td>\n",
       "      <td>Life expectancy at birth (years)</td>\n",
       "      <td>2013</td>\n",
       "      <td>Eastern Mediterranean</td>\n",
       "      <td>NaN</td>\n",
       "      <td>Afghanistan</td>\n",
       "      <td>Male</td>\n",
       "      <td>61</td>\n",
       "    </tr>\n",
       "    <tr>\n",
       "      <th>2</th>\n",
       "      <td>WHOSIS_000002</td>\n",
       "      <td>Healthy life expectancy (HALE) at birth (years)</td>\n",
       "      <td>2013</td>\n",
       "      <td>Eastern Mediterranean</td>\n",
       "      <td>Low_income</td>\n",
       "      <td>Afghanistan</td>\n",
       "      <td>Female</td>\n",
       "      <td>50</td>\n",
       "    </tr>\n",
       "    <tr>\n",
       "      <th>3</th>\n",
       "      <td>WHOSIS_000015</td>\n",
       "      <td>Life expectancy at age 60 (years)</td>\n",
       "      <td>2012</td>\n",
       "      <td>Eastern Mediterranean</td>\n",
       "      <td>Low_income</td>\n",
       "      <td>Afghanistan</td>\n",
       "      <td>Female</td>\n",
       "      <td>17</td>\n",
       "    </tr>\n",
       "    <tr>\n",
       "      <th>4</th>\n",
       "      <td>WHOSIS_000015</td>\n",
       "      <td>Life expectancy at age 60 (years)</td>\n",
       "      <td>2012</td>\n",
       "      <td>Eastern Mediterranean</td>\n",
       "      <td>Low_income</td>\n",
       "      <td>Afghanistan</td>\n",
       "      <td>Male</td>\n",
       "      <td>15</td>\n",
       "    </tr>\n",
       "  </tbody>\n",
       "</table>\n",
       "</div>"
      ],
      "text/plain": [
       "         GhoCode                                       GhoDisplay  \\\n",
       "0  WHOSIS_000015                Life expectancy at age 60 (years)   \n",
       "1  WHOSIS_000001                 Life expectancy at birth (years)   \n",
       "2  WHOSIS_000002  Healthy life expectancy (HALE) at birth (years)   \n",
       "3  WHOSIS_000015                Life expectancy at age 60 (years)   \n",
       "4  WHOSIS_000015                Life expectancy at age 60 (years)   \n",
       "\n",
       "   YearDisplay          RegionDisplay WorldBankIncomeGroupDisplay  \\\n",
       "0         2000  Eastern Mediterranean                  Low_income   \n",
       "1         2013  Eastern Mediterranean                         NaN   \n",
       "2         2013  Eastern Mediterranean                  Low_income   \n",
       "3         2012  Eastern Mediterranean                  Low_income   \n",
       "4         2012  Eastern Mediterranean                  Low_income   \n",
       "\n",
       "  CountryDisplay SexDisplay  DisplayValue  \n",
       "0    Afghanistan     Female            16  \n",
       "1    Afghanistan       Male            61  \n",
       "2    Afghanistan     Female            50  \n",
       "3    Afghanistan     Female            17  \n",
       "4    Afghanistan       Male            15  "
      ]
     },
     "execution_count": 4,
     "metadata": {},
     "output_type": "execute_result"
    }
   ],
   "source": [
    "healthy_life = pd.read_csv('../data/health_life_expectancy.csv')\n",
    "healthy_life.head()"
   ]
  },
  {
   "cell_type": "code",
   "execution_count": 5,
   "id": "5c643adb",
   "metadata": {},
   "outputs": [
    {
     "data": {
      "text/plain": [
       "(6408, 8)"
      ]
     },
     "execution_count": 5,
     "metadata": {},
     "output_type": "execute_result"
    }
   ],
   "source": [
    "healthy_life.shape"
   ]
  },
  {
   "cell_type": "markdown",
   "id": "f06cf68a",
   "metadata": {},
   "source": [
    "Rename columns"
   ]
  },
  {
   "cell_type": "code",
   "execution_count": 6,
   "id": "e485f38e",
   "metadata": {},
   "outputs": [
    {
     "data": {
      "text/html": [
       "<div>\n",
       "<style scoped>\n",
       "    .dataframe tbody tr th:only-of-type {\n",
       "        vertical-align: middle;\n",
       "    }\n",
       "\n",
       "    .dataframe tbody tr th {\n",
       "        vertical-align: top;\n",
       "    }\n",
       "\n",
       "    .dataframe thead th {\n",
       "        text-align: right;\n",
       "    }\n",
       "</style>\n",
       "<table border=\"1\" class=\"dataframe\">\n",
       "  <thead>\n",
       "    <tr style=\"text-align: right;\">\n",
       "      <th></th>\n",
       "      <th>GhoCode</th>\n",
       "      <th>Gho</th>\n",
       "      <th>Year</th>\n",
       "      <th>Region</th>\n",
       "      <th>IncomeGroup</th>\n",
       "      <th>Country</th>\n",
       "      <th>Sex</th>\n",
       "      <th>Value</th>\n",
       "    </tr>\n",
       "  </thead>\n",
       "  <tbody>\n",
       "    <tr>\n",
       "      <th>0</th>\n",
       "      <td>WHOSIS_000015</td>\n",
       "      <td>Life expectancy at age 60 (years)</td>\n",
       "      <td>2000</td>\n",
       "      <td>Eastern Mediterranean</td>\n",
       "      <td>Low_income</td>\n",
       "      <td>Afghanistan</td>\n",
       "      <td>Female</td>\n",
       "      <td>16</td>\n",
       "    </tr>\n",
       "    <tr>\n",
       "      <th>1</th>\n",
       "      <td>WHOSIS_000001</td>\n",
       "      <td>Life expectancy at birth (years)</td>\n",
       "      <td>2013</td>\n",
       "      <td>Eastern Mediterranean</td>\n",
       "      <td>NaN</td>\n",
       "      <td>Afghanistan</td>\n",
       "      <td>Male</td>\n",
       "      <td>61</td>\n",
       "    </tr>\n",
       "    <tr>\n",
       "      <th>2</th>\n",
       "      <td>WHOSIS_000002</td>\n",
       "      <td>Healthy life expectancy (HALE) at birth (years)</td>\n",
       "      <td>2013</td>\n",
       "      <td>Eastern Mediterranean</td>\n",
       "      <td>Low_income</td>\n",
       "      <td>Afghanistan</td>\n",
       "      <td>Female</td>\n",
       "      <td>50</td>\n",
       "    </tr>\n",
       "    <tr>\n",
       "      <th>3</th>\n",
       "      <td>WHOSIS_000015</td>\n",
       "      <td>Life expectancy at age 60 (years)</td>\n",
       "      <td>2012</td>\n",
       "      <td>Eastern Mediterranean</td>\n",
       "      <td>Low_income</td>\n",
       "      <td>Afghanistan</td>\n",
       "      <td>Female</td>\n",
       "      <td>17</td>\n",
       "    </tr>\n",
       "    <tr>\n",
       "      <th>4</th>\n",
       "      <td>WHOSIS_000015</td>\n",
       "      <td>Life expectancy at age 60 (years)</td>\n",
       "      <td>2012</td>\n",
       "      <td>Eastern Mediterranean</td>\n",
       "      <td>Low_income</td>\n",
       "      <td>Afghanistan</td>\n",
       "      <td>Male</td>\n",
       "      <td>15</td>\n",
       "    </tr>\n",
       "  </tbody>\n",
       "</table>\n",
       "</div>"
      ],
      "text/plain": [
       "         GhoCode                                              Gho  Year  \\\n",
       "0  WHOSIS_000015                Life expectancy at age 60 (years)  2000   \n",
       "1  WHOSIS_000001                 Life expectancy at birth (years)  2013   \n",
       "2  WHOSIS_000002  Healthy life expectancy (HALE) at birth (years)  2013   \n",
       "3  WHOSIS_000015                Life expectancy at age 60 (years)  2012   \n",
       "4  WHOSIS_000015                Life expectancy at age 60 (years)  2012   \n",
       "\n",
       "                  Region IncomeGroup      Country     Sex  Value  \n",
       "0  Eastern Mediterranean  Low_income  Afghanistan  Female     16  \n",
       "1  Eastern Mediterranean         NaN  Afghanistan    Male     61  \n",
       "2  Eastern Mediterranean  Low_income  Afghanistan  Female     50  \n",
       "3  Eastern Mediterranean  Low_income  Afghanistan  Female     17  \n",
       "4  Eastern Mediterranean  Low_income  Afghanistan    Male     15  "
      ]
     },
     "execution_count": 6,
     "metadata": {},
     "output_type": "execute_result"
    }
   ],
   "source": [
    "healthy_life = healthy_life.rename(columns = {'GhoCode':'GhoCode','GhoDisplay':'Gho',\n",
    "                                              'YearDisplay':'Year','RegionDisplay':'Region',\n",
    "                                             'WorldBankIncomeGroupDisplay':'IncomeGroup',\n",
    "                                             'CountryDisplay':'Country','SexDisplay':'Sex',\n",
    "                                             'DisplayValue':'Value'})\n",
    "healthy_life.head()"
   ]
  },
  {
   "cell_type": "code",
   "execution_count": 7,
   "id": "42f2aa24",
   "metadata": {},
   "outputs": [],
   "source": [
    "# lookinge life expectancy and healthy expectancy at birth(years)"
   ]
  },
  {
   "cell_type": "code",
   "execution_count": 8,
   "id": "7613ff11",
   "metadata": {},
   "outputs": [
    {
     "data": {
      "text/html": [
       "<div>\n",
       "<style scoped>\n",
       "    .dataframe tbody tr th:only-of-type {\n",
       "        vertical-align: middle;\n",
       "    }\n",
       "\n",
       "    .dataframe tbody tr th {\n",
       "        vertical-align: top;\n",
       "    }\n",
       "\n",
       "    .dataframe thead th {\n",
       "        text-align: right;\n",
       "    }\n",
       "</style>\n",
       "<table border=\"1\" class=\"dataframe\">\n",
       "  <thead>\n",
       "    <tr style=\"text-align: right;\">\n",
       "      <th></th>\n",
       "      <th>GhoCode</th>\n",
       "      <th>Gho</th>\n",
       "      <th>Year</th>\n",
       "      <th>Region</th>\n",
       "      <th>IncomeGroup</th>\n",
       "      <th>Country</th>\n",
       "      <th>Sex</th>\n",
       "      <th>Value</th>\n",
       "    </tr>\n",
       "  </thead>\n",
       "  <tbody>\n",
       "    <tr>\n",
       "      <th>1</th>\n",
       "      <td>WHOSIS_000001</td>\n",
       "      <td>Life expectancy at birth (years)</td>\n",
       "      <td>2013</td>\n",
       "      <td>Eastern Mediterranean</td>\n",
       "      <td>NaN</td>\n",
       "      <td>Afghanistan</td>\n",
       "      <td>Male</td>\n",
       "      <td>61</td>\n",
       "    </tr>\n",
       "    <tr>\n",
       "      <th>2</th>\n",
       "      <td>WHOSIS_000002</td>\n",
       "      <td>Healthy life expectancy (HALE) at birth (years)</td>\n",
       "      <td>2013</td>\n",
       "      <td>Eastern Mediterranean</td>\n",
       "      <td>Low_income</td>\n",
       "      <td>Afghanistan</td>\n",
       "      <td>Female</td>\n",
       "      <td>50</td>\n",
       "    </tr>\n",
       "    <tr>\n",
       "      <th>5</th>\n",
       "      <td>WHOSIS_000002</td>\n",
       "      <td>Healthy life expectancy (HALE) at birth (years)</td>\n",
       "      <td>2012</td>\n",
       "      <td>Eastern Mediterranean</td>\n",
       "      <td>Low_income</td>\n",
       "      <td>Afghanistan</td>\n",
       "      <td>Female</td>\n",
       "      <td>49</td>\n",
       "    </tr>\n",
       "    <tr>\n",
       "      <th>6</th>\n",
       "      <td>WHOSIS_000001</td>\n",
       "      <td>Life expectancy at birth (years)</td>\n",
       "      <td>2013</td>\n",
       "      <td>Eastern Mediterranean</td>\n",
       "      <td>NaN</td>\n",
       "      <td>Afghanistan</td>\n",
       "      <td>Both sexes</td>\n",
       "      <td>61</td>\n",
       "    </tr>\n",
       "    <tr>\n",
       "      <th>7</th>\n",
       "      <td>WHOSIS_000002</td>\n",
       "      <td>Healthy life expectancy (HALE) at birth (years)</td>\n",
       "      <td>2000</td>\n",
       "      <td>Eastern Mediterranean</td>\n",
       "      <td>Low_income</td>\n",
       "      <td>Afghanistan</td>\n",
       "      <td>Female</td>\n",
       "      <td>45</td>\n",
       "    </tr>\n",
       "    <tr>\n",
       "      <th>...</th>\n",
       "      <td>...</td>\n",
       "      <td>...</td>\n",
       "      <td>...</td>\n",
       "      <td>...</td>\n",
       "      <td>...</td>\n",
       "      <td>...</td>\n",
       "      <td>...</td>\n",
       "      <td>...</td>\n",
       "    </tr>\n",
       "    <tr>\n",
       "      <th>6403</th>\n",
       "      <td>WHOSIS_000002</td>\n",
       "      <td>Healthy life expectancy (HALE) at birth (years)</td>\n",
       "      <td>2000</td>\n",
       "      <td>Africa</td>\n",
       "      <td>Low_income</td>\n",
       "      <td>Zimbabwe</td>\n",
       "      <td>Male</td>\n",
       "      <td>37</td>\n",
       "    </tr>\n",
       "    <tr>\n",
       "      <th>6404</th>\n",
       "      <td>WHOSIS_000001</td>\n",
       "      <td>Life expectancy at birth (years)</td>\n",
       "      <td>2012</td>\n",
       "      <td>Africa</td>\n",
       "      <td>Low_income</td>\n",
       "      <td>Zimbabwe</td>\n",
       "      <td>Both sexes</td>\n",
       "      <td>58</td>\n",
       "    </tr>\n",
       "    <tr>\n",
       "      <th>6405</th>\n",
       "      <td>WHOSIS_000002</td>\n",
       "      <td>Healthy life expectancy (HALE) at birth (years)</td>\n",
       "      <td>2013</td>\n",
       "      <td>Africa</td>\n",
       "      <td>Low_income</td>\n",
       "      <td>Zimbabwe</td>\n",
       "      <td>Female</td>\n",
       "      <td>52</td>\n",
       "    </tr>\n",
       "    <tr>\n",
       "      <th>6406</th>\n",
       "      <td>WHOSIS_000001</td>\n",
       "      <td>Life expectancy at birth (years)</td>\n",
       "      <td>1990</td>\n",
       "      <td>Africa</td>\n",
       "      <td>Low_income</td>\n",
       "      <td>Zimbabwe</td>\n",
       "      <td>Male</td>\n",
       "      <td>60</td>\n",
       "    </tr>\n",
       "    <tr>\n",
       "      <th>6407</th>\n",
       "      <td>WHOSIS_000001</td>\n",
       "      <td>Life expectancy at birth (years)</td>\n",
       "      <td>2000</td>\n",
       "      <td>Africa</td>\n",
       "      <td>Low_income</td>\n",
       "      <td>Zimbabwe</td>\n",
       "      <td>Both sexes</td>\n",
       "      <td>42</td>\n",
       "    </tr>\n",
       "  </tbody>\n",
       "</table>\n",
       "<p>4080 rows × 8 columns</p>\n",
       "</div>"
      ],
      "text/plain": [
       "            GhoCode                                              Gho  Year  \\\n",
       "1     WHOSIS_000001                 Life expectancy at birth (years)  2013   \n",
       "2     WHOSIS_000002  Healthy life expectancy (HALE) at birth (years)  2013   \n",
       "5     WHOSIS_000002  Healthy life expectancy (HALE) at birth (years)  2012   \n",
       "6     WHOSIS_000001                 Life expectancy at birth (years)  2013   \n",
       "7     WHOSIS_000002  Healthy life expectancy (HALE) at birth (years)  2000   \n",
       "...             ...                                              ...   ...   \n",
       "6403  WHOSIS_000002  Healthy life expectancy (HALE) at birth (years)  2000   \n",
       "6404  WHOSIS_000001                 Life expectancy at birth (years)  2012   \n",
       "6405  WHOSIS_000002  Healthy life expectancy (HALE) at birth (years)  2013   \n",
       "6406  WHOSIS_000001                 Life expectancy at birth (years)  1990   \n",
       "6407  WHOSIS_000001                 Life expectancy at birth (years)  2000   \n",
       "\n",
       "                     Region IncomeGroup      Country         Sex  Value  \n",
       "1     Eastern Mediterranean         NaN  Afghanistan        Male     61  \n",
       "2     Eastern Mediterranean  Low_income  Afghanistan      Female     50  \n",
       "5     Eastern Mediterranean  Low_income  Afghanistan      Female     49  \n",
       "6     Eastern Mediterranean         NaN  Afghanistan  Both sexes     61  \n",
       "7     Eastern Mediterranean  Low_income  Afghanistan      Female     45  \n",
       "...                     ...         ...          ...         ...    ...  \n",
       "6403                 Africa  Low_income     Zimbabwe        Male     37  \n",
       "6404                 Africa  Low_income     Zimbabwe  Both sexes     58  \n",
       "6405                 Africa  Low_income     Zimbabwe      Female     52  \n",
       "6406                 Africa  Low_income     Zimbabwe        Male     60  \n",
       "6407                 Africa  Low_income     Zimbabwe  Both sexes     42  \n",
       "\n",
       "[4080 rows x 8 columns]"
      ]
     },
     "execution_count": 8,
     "metadata": {},
     "output_type": "execute_result"
    }
   ],
   "source": [
    "healthy_life = healthy_life.loc[~(healthy_life['Gho'] == 'Life expectancy at age 60 (years)')]\n",
    "healthy_life\n",
    "                 "
   ]
  },
  {
   "cell_type": "markdown",
   "id": "73aa88de",
   "metadata": {},
   "source": [
    "Create a new columns called Life expectancy and Healthy_Life expectancy from Gho column."
   ]
  },
  {
   "cell_type": "code",
   "execution_count": 9,
   "id": "546cc0fd",
   "metadata": {
    "scrolled": true
   },
   "outputs": [
    {
     "data": {
      "text/plain": [
       "1                      Life expectancy at birth (years)\n",
       "2       Healthy life expectancy (HALE) at birth (years)\n",
       "5       Healthy life expectancy (HALE) at birth (years)\n",
       "6                      Life expectancy at birth (years)\n",
       "7       Healthy life expectancy (HALE) at birth (years)\n",
       "                             ...                       \n",
       "6403    Healthy life expectancy (HALE) at birth (years)\n",
       "6404                   Life expectancy at birth (years)\n",
       "6405    Healthy life expectancy (HALE) at birth (years)\n",
       "6406                   Life expectancy at birth (years)\n",
       "6407                   Life expectancy at birth (years)\n",
       "Name: Gho, Length: 4080, dtype: object"
      ]
     },
     "execution_count": 9,
     "metadata": {},
     "output_type": "execute_result"
    }
   ],
   "source": [
    "healthy_life['Gho']"
   ]
  },
  {
   "cell_type": "code",
   "execution_count": 10,
   "id": "a54dbf7a",
   "metadata": {},
   "outputs": [],
   "source": [
    "healthy_life['Life expectancy'] = np.where(healthy_life['Gho']=='Life expectancy at birth (years)',\n",
    "                                                            healthy_life['Value'] , np.nan)\n",
    "\n",
    "healthy_life['Healthy_Life expectancy'] = np.where(healthy_life['Gho']=='Healthy life expectancy (HALE) at birth (years)',\n",
    "                                                                    healthy_life['Value'] , np.nan)"
   ]
  },
  {
   "cell_type": "code",
   "execution_count": 11,
   "id": "2c6548a1",
   "metadata": {},
   "outputs": [
    {
     "data": {
      "text/html": [
       "<div>\n",
       "<style scoped>\n",
       "    .dataframe tbody tr th:only-of-type {\n",
       "        vertical-align: middle;\n",
       "    }\n",
       "\n",
       "    .dataframe tbody tr th {\n",
       "        vertical-align: top;\n",
       "    }\n",
       "\n",
       "    .dataframe thead th {\n",
       "        text-align: right;\n",
       "    }\n",
       "</style>\n",
       "<table border=\"1\" class=\"dataframe\">\n",
       "  <thead>\n",
       "    <tr style=\"text-align: right;\">\n",
       "      <th></th>\n",
       "      <th>GhoCode</th>\n",
       "      <th>Gho</th>\n",
       "      <th>Year</th>\n",
       "      <th>Region</th>\n",
       "      <th>IncomeGroup</th>\n",
       "      <th>Country</th>\n",
       "      <th>Sex</th>\n",
       "      <th>Value</th>\n",
       "      <th>Life expectancy</th>\n",
       "      <th>Healthy_Life expectancy</th>\n",
       "    </tr>\n",
       "  </thead>\n",
       "  <tbody>\n",
       "    <tr>\n",
       "      <th>1</th>\n",
       "      <td>WHOSIS_000001</td>\n",
       "      <td>Life expectancy at birth (years)</td>\n",
       "      <td>2013</td>\n",
       "      <td>Eastern Mediterranean</td>\n",
       "      <td>NaN</td>\n",
       "      <td>Afghanistan</td>\n",
       "      <td>Male</td>\n",
       "      <td>61</td>\n",
       "      <td>61.0</td>\n",
       "      <td>NaN</td>\n",
       "    </tr>\n",
       "    <tr>\n",
       "      <th>2</th>\n",
       "      <td>WHOSIS_000002</td>\n",
       "      <td>Healthy life expectancy (HALE) at birth (years)</td>\n",
       "      <td>2013</td>\n",
       "      <td>Eastern Mediterranean</td>\n",
       "      <td>Low_income</td>\n",
       "      <td>Afghanistan</td>\n",
       "      <td>Female</td>\n",
       "      <td>50</td>\n",
       "      <td>NaN</td>\n",
       "      <td>50.0</td>\n",
       "    </tr>\n",
       "    <tr>\n",
       "      <th>5</th>\n",
       "      <td>WHOSIS_000002</td>\n",
       "      <td>Healthy life expectancy (HALE) at birth (years)</td>\n",
       "      <td>2012</td>\n",
       "      <td>Eastern Mediterranean</td>\n",
       "      <td>Low_income</td>\n",
       "      <td>Afghanistan</td>\n",
       "      <td>Female</td>\n",
       "      <td>49</td>\n",
       "      <td>NaN</td>\n",
       "      <td>49.0</td>\n",
       "    </tr>\n",
       "    <tr>\n",
       "      <th>6</th>\n",
       "      <td>WHOSIS_000001</td>\n",
       "      <td>Life expectancy at birth (years)</td>\n",
       "      <td>2013</td>\n",
       "      <td>Eastern Mediterranean</td>\n",
       "      <td>NaN</td>\n",
       "      <td>Afghanistan</td>\n",
       "      <td>Both sexes</td>\n",
       "      <td>61</td>\n",
       "      <td>61.0</td>\n",
       "      <td>NaN</td>\n",
       "    </tr>\n",
       "    <tr>\n",
       "      <th>7</th>\n",
       "      <td>WHOSIS_000002</td>\n",
       "      <td>Healthy life expectancy (HALE) at birth (years)</td>\n",
       "      <td>2000</td>\n",
       "      <td>Eastern Mediterranean</td>\n",
       "      <td>Low_income</td>\n",
       "      <td>Afghanistan</td>\n",
       "      <td>Female</td>\n",
       "      <td>45</td>\n",
       "      <td>NaN</td>\n",
       "      <td>45.0</td>\n",
       "    </tr>\n",
       "  </tbody>\n",
       "</table>\n",
       "</div>"
      ],
      "text/plain": [
       "         GhoCode                                              Gho  Year  \\\n",
       "1  WHOSIS_000001                 Life expectancy at birth (years)  2013   \n",
       "2  WHOSIS_000002  Healthy life expectancy (HALE) at birth (years)  2013   \n",
       "5  WHOSIS_000002  Healthy life expectancy (HALE) at birth (years)  2012   \n",
       "6  WHOSIS_000001                 Life expectancy at birth (years)  2013   \n",
       "7  WHOSIS_000002  Healthy life expectancy (HALE) at birth (years)  2000   \n",
       "\n",
       "                  Region IncomeGroup      Country         Sex  Value  \\\n",
       "1  Eastern Mediterranean         NaN  Afghanistan        Male     61   \n",
       "2  Eastern Mediterranean  Low_income  Afghanistan      Female     50   \n",
       "5  Eastern Mediterranean  Low_income  Afghanistan      Female     49   \n",
       "6  Eastern Mediterranean         NaN  Afghanistan  Both sexes     61   \n",
       "7  Eastern Mediterranean  Low_income  Afghanistan      Female     45   \n",
       "\n",
       "   Life expectancy  Healthy_Life expectancy  \n",
       "1             61.0                      NaN  \n",
       "2              NaN                     50.0  \n",
       "5              NaN                     49.0  \n",
       "6             61.0                      NaN  \n",
       "7              NaN                     45.0  "
      ]
     },
     "execution_count": 11,
     "metadata": {},
     "output_type": "execute_result"
    }
   ],
   "source": [
    "healthy_life.head()"
   ]
  },
  {
   "cell_type": "code",
   "execution_count": 12,
   "id": "a6a4b178",
   "metadata": {},
   "outputs": [],
   "source": [
    "#Table #2 "
   ]
  },
  {
   "cell_type": "code",
   "execution_count": 13,
   "id": "73beb3da",
   "metadata": {},
   "outputs": [
    {
     "data": {
      "text/html": [
       "<div>\n",
       "<style scoped>\n",
       "    .dataframe tbody tr th:only-of-type {\n",
       "        vertical-align: middle;\n",
       "    }\n",
       "\n",
       "    .dataframe tbody tr th {\n",
       "        vertical-align: top;\n",
       "    }\n",
       "\n",
       "    .dataframe thead th {\n",
       "        text-align: right;\n",
       "    }\n",
       "</style>\n",
       "<table border=\"1\" class=\"dataframe\">\n",
       "  <thead>\n",
       "    <tr style=\"text-align: right;\">\n",
       "      <th></th>\n",
       "      <th>Entity</th>\n",
       "      <th>Year</th>\n",
       "      <th>Current health expenditure per capita, PPP (current international $)</th>\n",
       "      <th>Population (historical estimates)</th>\n",
       "    </tr>\n",
       "  </thead>\n",
       "  <tbody>\n",
       "    <tr>\n",
       "      <th>0</th>\n",
       "      <td>Abkhazia</td>\n",
       "      <td>2015</td>\n",
       "      <td>NaN</td>\n",
       "      <td>NaN</td>\n",
       "    </tr>\n",
       "    <tr>\n",
       "      <th>1</th>\n",
       "      <td>Afghanistan</td>\n",
       "      <td>1990</td>\n",
       "      <td>NaN</td>\n",
       "      <td>10694804.0</td>\n",
       "    </tr>\n",
       "    <tr>\n",
       "      <th>2</th>\n",
       "      <td>Afghanistan</td>\n",
       "      <td>1991</td>\n",
       "      <td>NaN</td>\n",
       "      <td>10745168.0</td>\n",
       "    </tr>\n",
       "    <tr>\n",
       "      <th>3</th>\n",
       "      <td>Afghanistan</td>\n",
       "      <td>1992</td>\n",
       "      <td>NaN</td>\n",
       "      <td>12057436.0</td>\n",
       "    </tr>\n",
       "    <tr>\n",
       "      <th>4</th>\n",
       "      <td>Afghanistan</td>\n",
       "      <td>1993</td>\n",
       "      <td>NaN</td>\n",
       "      <td>14003764.0</td>\n",
       "    </tr>\n",
       "  </tbody>\n",
       "</table>\n",
       "</div>"
      ],
      "text/plain": [
       "        Entity  Year  \\\n",
       "0     Abkhazia  2015   \n",
       "1  Afghanistan  1990   \n",
       "2  Afghanistan  1991   \n",
       "3  Afghanistan  1992   \n",
       "4  Afghanistan  1993   \n",
       "\n",
       "   Current health expenditure per capita, PPP (current international $)  \\\n",
       "0                                                NaN                      \n",
       "1                                                NaN                      \n",
       "2                                                NaN                      \n",
       "3                                                NaN                      \n",
       "4                                                NaN                      \n",
       "\n",
       "   Population (historical estimates)  \n",
       "0                                NaN  \n",
       "1                         10694804.0  \n",
       "2                         10745168.0  \n",
       "3                         12057436.0  \n",
       "4                         14003764.0  "
      ]
     },
     "execution_count": 13,
     "metadata": {},
     "output_type": "execute_result"
    }
   ],
   "source": [
    "expenditure = pd.read_csv('../data/healthy-life-health-expenditure-per-capita.csv')\n",
    "expenditure.head()"
   ]
  },
  {
   "cell_type": "code",
   "execution_count": 14,
   "id": "fcc9f0e4",
   "metadata": {},
   "outputs": [
    {
     "data": {
      "text/html": [
       "<div>\n",
       "<style scoped>\n",
       "    .dataframe tbody tr th:only-of-type {\n",
       "        vertical-align: middle;\n",
       "    }\n",
       "\n",
       "    .dataframe tbody tr th {\n",
       "        vertical-align: top;\n",
       "    }\n",
       "\n",
       "    .dataframe thead th {\n",
       "        text-align: right;\n",
       "    }\n",
       "</style>\n",
       "<table border=\"1\" class=\"dataframe\">\n",
       "  <thead>\n",
       "    <tr style=\"text-align: right;\">\n",
       "      <th></th>\n",
       "      <th>Entity</th>\n",
       "      <th>Year</th>\n",
       "      <th>PPP</th>\n",
       "      <th>Population</th>\n",
       "    </tr>\n",
       "  </thead>\n",
       "  <tbody>\n",
       "    <tr>\n",
       "      <th>0</th>\n",
       "      <td>Abkhazia</td>\n",
       "      <td>2015</td>\n",
       "      <td>NaN</td>\n",
       "      <td>NaN</td>\n",
       "    </tr>\n",
       "    <tr>\n",
       "      <th>1</th>\n",
       "      <td>Afghanistan</td>\n",
       "      <td>1990</td>\n",
       "      <td>NaN</td>\n",
       "      <td>10694804.0</td>\n",
       "    </tr>\n",
       "    <tr>\n",
       "      <th>2</th>\n",
       "      <td>Afghanistan</td>\n",
       "      <td>1991</td>\n",
       "      <td>NaN</td>\n",
       "      <td>10745168.0</td>\n",
       "    </tr>\n",
       "    <tr>\n",
       "      <th>3</th>\n",
       "      <td>Afghanistan</td>\n",
       "      <td>1992</td>\n",
       "      <td>NaN</td>\n",
       "      <td>12057436.0</td>\n",
       "    </tr>\n",
       "    <tr>\n",
       "      <th>4</th>\n",
       "      <td>Afghanistan</td>\n",
       "      <td>1993</td>\n",
       "      <td>NaN</td>\n",
       "      <td>14003764.0</td>\n",
       "    </tr>\n",
       "  </tbody>\n",
       "</table>\n",
       "</div>"
      ],
      "text/plain": [
       "        Entity  Year  PPP  Population\n",
       "0     Abkhazia  2015  NaN         NaN\n",
       "1  Afghanistan  1990  NaN  10694804.0\n",
       "2  Afghanistan  1991  NaN  10745168.0\n",
       "3  Afghanistan  1992  NaN  12057436.0\n",
       "4  Afghanistan  1993  NaN  14003764.0"
      ]
     },
     "execution_count": 14,
     "metadata": {},
     "output_type": "execute_result"
    }
   ],
   "source": [
    "# Rename columns\n",
    "expenditure = expenditure.rename(columns = {'Entity':'Entity','Year':'Year','Current health expenditure per capita, PPP (current international $)':\n",
    "                                           'PPP','Population (historical estimates)':'Population'})\n",
    "expenditure.head()         "
   ]
  },
  {
   "cell_type": "code",
   "execution_count": 15,
   "id": "f4f0289f",
   "metadata": {
    "scrolled": true
   },
   "outputs": [
    {
     "data": {
      "text/html": [
       "<div>\n",
       "<style scoped>\n",
       "    .dataframe tbody tr th:only-of-type {\n",
       "        vertical-align: middle;\n",
       "    }\n",
       "\n",
       "    .dataframe tbody tr th {\n",
       "        vertical-align: top;\n",
       "    }\n",
       "\n",
       "    .dataframe thead th {\n",
       "        text-align: right;\n",
       "    }\n",
       "</style>\n",
       "<table border=\"1\" class=\"dataframe\">\n",
       "  <thead>\n",
       "    <tr style=\"text-align: right;\">\n",
       "      <th></th>\n",
       "      <th>Entity</th>\n",
       "      <th>Year</th>\n",
       "      <th>PPP</th>\n",
       "      <th>Population</th>\n",
       "    </tr>\n",
       "  </thead>\n",
       "  <tbody>\n",
       "    <tr>\n",
       "      <th>1</th>\n",
       "      <td>Afghanistan</td>\n",
       "      <td>1990</td>\n",
       "      <td>NaN</td>\n",
       "      <td>10694804.0</td>\n",
       "    </tr>\n",
       "    <tr>\n",
       "      <th>11</th>\n",
       "      <td>Afghanistan</td>\n",
       "      <td>2000</td>\n",
       "      <td>NaN</td>\n",
       "      <td>19542986.0</td>\n",
       "    </tr>\n",
       "    <tr>\n",
       "      <th>23</th>\n",
       "      <td>Afghanistan</td>\n",
       "      <td>2012</td>\n",
       "      <td>151.91798</td>\n",
       "      <td>30466484.0</td>\n",
       "    </tr>\n",
       "    <tr>\n",
       "      <th>24</th>\n",
       "      <td>Afghanistan</td>\n",
       "      <td>2013</td>\n",
       "      <td>174.05948</td>\n",
       "      <td>31541216.0</td>\n",
       "    </tr>\n",
       "    <tr>\n",
       "      <th>487</th>\n",
       "      <td>Africa</td>\n",
       "      <td>1990</td>\n",
       "      <td>NaN</td>\n",
       "      <td>638157571.0</td>\n",
       "    </tr>\n",
       "  </tbody>\n",
       "</table>\n",
       "</div>"
      ],
      "text/plain": [
       "          Entity  Year        PPP   Population\n",
       "1    Afghanistan  1990        NaN   10694804.0\n",
       "11   Afghanistan  2000        NaN   19542986.0\n",
       "23   Afghanistan  2012  151.91798   30466484.0\n",
       "24   Afghanistan  2013  174.05948   31541216.0\n",
       "487       Africa  1990        NaN  638157571.0"
      ]
     },
     "execution_count": 15,
     "metadata": {},
     "output_type": "execute_result"
    }
   ],
   "source": [
    "# select years 1990,2000,2012,2013\n",
    "expenditure = expenditure.loc[(expenditure['Year'] ==1990)|(expenditure['Year'] ==2000)|\n",
    "                              (expenditure['Year'] ==2012)|(expenditure['Year']==2013)]\n",
    "expenditure.head()"
   ]
  },
  {
   "cell_type": "code",
   "execution_count": 16,
   "id": "301d800e",
   "metadata": {},
   "outputs": [],
   "source": [
    "# Table #3 "
   ]
  },
  {
   "cell_type": "code",
   "execution_count": 17,
   "id": "0fe28709",
   "metadata": {
    "scrolled": false
   },
   "outputs": [
    {
     "data": {
      "text/html": [
       "<div>\n",
       "<style scoped>\n",
       "    .dataframe tbody tr th:only-of-type {\n",
       "        vertical-align: middle;\n",
       "    }\n",
       "\n",
       "    .dataframe tbody tr th {\n",
       "        vertical-align: top;\n",
       "    }\n",
       "\n",
       "    .dataframe thead th {\n",
       "        text-align: right;\n",
       "    }\n",
       "</style>\n",
       "<table border=\"1\" class=\"dataframe\">\n",
       "  <thead>\n",
       "    <tr style=\"text-align: right;\">\n",
       "      <th></th>\n",
       "      <th>Country/Region/World</th>\n",
       "      <th>Sex</th>\n",
       "      <th>Year</th>\n",
       "      <th>Mean BMI</th>\n",
       "    </tr>\n",
       "  </thead>\n",
       "  <tbody>\n",
       "    <tr>\n",
       "      <th>0</th>\n",
       "      <td>Afghanistan</td>\n",
       "      <td>Men</td>\n",
       "      <td>1975</td>\n",
       "      <td>18.999440</td>\n",
       "    </tr>\n",
       "    <tr>\n",
       "      <th>1</th>\n",
       "      <td>Afghanistan</td>\n",
       "      <td>Men</td>\n",
       "      <td>1976</td>\n",
       "      <td>19.105518</td>\n",
       "    </tr>\n",
       "    <tr>\n",
       "      <th>2</th>\n",
       "      <td>Afghanistan</td>\n",
       "      <td>Men</td>\n",
       "      <td>1977</td>\n",
       "      <td>19.212080</td>\n",
       "    </tr>\n",
       "    <tr>\n",
       "      <th>3</th>\n",
       "      <td>Afghanistan</td>\n",
       "      <td>Men</td>\n",
       "      <td>1978</td>\n",
       "      <td>19.319053</td>\n",
       "    </tr>\n",
       "    <tr>\n",
       "      <th>4</th>\n",
       "      <td>Afghanistan</td>\n",
       "      <td>Men</td>\n",
       "      <td>1979</td>\n",
       "      <td>19.425952</td>\n",
       "    </tr>\n",
       "  </tbody>\n",
       "</table>\n",
       "</div>"
      ],
      "text/plain": [
       "  Country/Region/World  Sex  Year   Mean BMI\n",
       "0          Afghanistan  Men  1975  18.999440\n",
       "1          Afghanistan  Men  1976  19.105518\n",
       "2          Afghanistan  Men  1977  19.212080\n",
       "3          Afghanistan  Men  1978  19.319053\n",
       "4          Afghanistan  Men  1979  19.425952"
      ]
     },
     "execution_count": 17,
     "metadata": {},
     "output_type": "execute_result"
    }
   ],
   "source": [
    "# data took on Adults only.\n",
    "bmi = pd.read_csv('../data/bmi_age_standardised_country.csv')\n",
    "bmi.head()"
   ]
  },
  {
   "cell_type": "code",
   "execution_count": 18,
   "id": "f9ba1d62",
   "metadata": {},
   "outputs": [
    {
     "data": {
      "text/html": [
       "<div>\n",
       "<style scoped>\n",
       "    .dataframe tbody tr th:only-of-type {\n",
       "        vertical-align: middle;\n",
       "    }\n",
       "\n",
       "    .dataframe tbody tr th {\n",
       "        vertical-align: top;\n",
       "    }\n",
       "\n",
       "    .dataframe thead th {\n",
       "        text-align: right;\n",
       "    }\n",
       "</style>\n",
       "<table border=\"1\" class=\"dataframe\">\n",
       "  <thead>\n",
       "    <tr style=\"text-align: right;\">\n",
       "      <th></th>\n",
       "      <th>Country</th>\n",
       "      <th>Sex</th>\n",
       "      <th>Year</th>\n",
       "      <th>BMI</th>\n",
       "    </tr>\n",
       "  </thead>\n",
       "  <tbody>\n",
       "    <tr>\n",
       "      <th>0</th>\n",
       "      <td>Afghanistan</td>\n",
       "      <td>Men</td>\n",
       "      <td>1975</td>\n",
       "      <td>18.999440</td>\n",
       "    </tr>\n",
       "    <tr>\n",
       "      <th>1</th>\n",
       "      <td>Afghanistan</td>\n",
       "      <td>Men</td>\n",
       "      <td>1976</td>\n",
       "      <td>19.105518</td>\n",
       "    </tr>\n",
       "    <tr>\n",
       "      <th>2</th>\n",
       "      <td>Afghanistan</td>\n",
       "      <td>Men</td>\n",
       "      <td>1977</td>\n",
       "      <td>19.212080</td>\n",
       "    </tr>\n",
       "    <tr>\n",
       "      <th>3</th>\n",
       "      <td>Afghanistan</td>\n",
       "      <td>Men</td>\n",
       "      <td>1978</td>\n",
       "      <td>19.319053</td>\n",
       "    </tr>\n",
       "    <tr>\n",
       "      <th>4</th>\n",
       "      <td>Afghanistan</td>\n",
       "      <td>Men</td>\n",
       "      <td>1979</td>\n",
       "      <td>19.425952</td>\n",
       "    </tr>\n",
       "  </tbody>\n",
       "</table>\n",
       "</div>"
      ],
      "text/plain": [
       "       Country  Sex  Year        BMI\n",
       "0  Afghanistan  Men  1975  18.999440\n",
       "1  Afghanistan  Men  1976  19.105518\n",
       "2  Afghanistan  Men  1977  19.212080\n",
       "3  Afghanistan  Men  1978  19.319053\n",
       "4  Afghanistan  Men  1979  19.425952"
      ]
     },
     "execution_count": 18,
     "metadata": {},
     "output_type": "execute_result"
    }
   ],
   "source": [
    "# rename columns\n",
    "bmi = bmi.rename(columns = {'Country/Region/World':'Country','Sex':'Sex','Year':'Year','Mean BMI':'BMI'})\n",
    "bmi.head()"
   ]
  },
  {
   "cell_type": "code",
   "execution_count": 19,
   "id": "b696c133",
   "metadata": {},
   "outputs": [
    {
     "data": {
      "text/html": [
       "<div>\n",
       "<style scoped>\n",
       "    .dataframe tbody tr th:only-of-type {\n",
       "        vertical-align: middle;\n",
       "    }\n",
       "\n",
       "    .dataframe tbody tr th {\n",
       "        vertical-align: top;\n",
       "    }\n",
       "\n",
       "    .dataframe thead th {\n",
       "        text-align: right;\n",
       "    }\n",
       "</style>\n",
       "<table border=\"1\" class=\"dataframe\">\n",
       "  <thead>\n",
       "    <tr style=\"text-align: right;\">\n",
       "      <th></th>\n",
       "      <th>Country</th>\n",
       "      <th>Sex</th>\n",
       "      <th>Year</th>\n",
       "      <th>BMI</th>\n",
       "    </tr>\n",
       "  </thead>\n",
       "  <tbody>\n",
       "    <tr>\n",
       "      <th>15</th>\n",
       "      <td>Afghanistan</td>\n",
       "      <td>Men</td>\n",
       "      <td>1990</td>\n",
       "      <td>20.502805</td>\n",
       "    </tr>\n",
       "    <tr>\n",
       "      <th>25</th>\n",
       "      <td>Afghanistan</td>\n",
       "      <td>Men</td>\n",
       "      <td>2000</td>\n",
       "      <td>21.369506</td>\n",
       "    </tr>\n",
       "    <tr>\n",
       "      <th>37</th>\n",
       "      <td>Afghanistan</td>\n",
       "      <td>Men</td>\n",
       "      <td>2012</td>\n",
       "      <td>22.343871</td>\n",
       "    </tr>\n",
       "    <tr>\n",
       "      <th>38</th>\n",
       "      <td>Afghanistan</td>\n",
       "      <td>Men</td>\n",
       "      <td>2013</td>\n",
       "      <td>22.427785</td>\n",
       "    </tr>\n",
       "    <tr>\n",
       "      <th>57</th>\n",
       "      <td>Albania</td>\n",
       "      <td>Men</td>\n",
       "      <td>1990</td>\n",
       "      <td>24.818641</td>\n",
       "    </tr>\n",
       "  </tbody>\n",
       "</table>\n",
       "</div>"
      ],
      "text/plain": [
       "        Country  Sex  Year        BMI\n",
       "15  Afghanistan  Men  1990  20.502805\n",
       "25  Afghanistan  Men  2000  21.369506\n",
       "37  Afghanistan  Men  2012  22.343871\n",
       "38  Afghanistan  Men  2013  22.427785\n",
       "57      Albania  Men  1990  24.818641"
      ]
     },
     "execution_count": 19,
     "metadata": {},
     "output_type": "execute_result"
    }
   ],
   "source": [
    "bmi = bmi.loc[(bmi['Year'] ==1990)|(bmi['Year'] ==2000)|\n",
    "             (bmi['Year'] ==2012)|(bmi['Year']==2013)]\n",
    "bmi.head()"
   ]
  },
  {
   "cell_type": "code",
   "execution_count": 20,
   "id": "4ac1c202",
   "metadata": {
    "scrolled": true
   },
   "outputs": [
    {
     "data": {
      "text/html": [
       "<div>\n",
       "<style scoped>\n",
       "    .dataframe tbody tr th:only-of-type {\n",
       "        vertical-align: middle;\n",
       "    }\n",
       "\n",
       "    .dataframe tbody tr th {\n",
       "        vertical-align: top;\n",
       "    }\n",
       "\n",
       "    .dataframe thead th {\n",
       "        text-align: right;\n",
       "    }\n",
       "</style>\n",
       "<table border=\"1\" class=\"dataframe\">\n",
       "  <thead>\n",
       "    <tr style=\"text-align: right;\">\n",
       "      <th></th>\n",
       "      <th>Country</th>\n",
       "      <th>Sex</th>\n",
       "      <th>Year</th>\n",
       "      <th>BMI</th>\n",
       "    </tr>\n",
       "  </thead>\n",
       "  <tbody>\n",
       "    <tr>\n",
       "      <th>15</th>\n",
       "      <td>Afghanistan</td>\n",
       "      <td>Male</td>\n",
       "      <td>1990</td>\n",
       "      <td>20.502805</td>\n",
       "    </tr>\n",
       "    <tr>\n",
       "      <th>25</th>\n",
       "      <td>Afghanistan</td>\n",
       "      <td>Male</td>\n",
       "      <td>2000</td>\n",
       "      <td>21.369506</td>\n",
       "    </tr>\n",
       "    <tr>\n",
       "      <th>37</th>\n",
       "      <td>Afghanistan</td>\n",
       "      <td>Male</td>\n",
       "      <td>2012</td>\n",
       "      <td>22.343871</td>\n",
       "    </tr>\n",
       "    <tr>\n",
       "      <th>38</th>\n",
       "      <td>Afghanistan</td>\n",
       "      <td>Male</td>\n",
       "      <td>2013</td>\n",
       "      <td>22.427785</td>\n",
       "    </tr>\n",
       "    <tr>\n",
       "      <th>57</th>\n",
       "      <td>Albania</td>\n",
       "      <td>Male</td>\n",
       "      <td>1990</td>\n",
       "      <td>24.818641</td>\n",
       "    </tr>\n",
       "  </tbody>\n",
       "</table>\n",
       "</div>"
      ],
      "text/plain": [
       "        Country   Sex  Year        BMI\n",
       "15  Afghanistan  Male  1990  20.502805\n",
       "25  Afghanistan  Male  2000  21.369506\n",
       "37  Afghanistan  Male  2012  22.343871\n",
       "38  Afghanistan  Male  2013  22.427785\n",
       "57      Albania  Male  1990  24.818641"
      ]
     },
     "execution_count": 20,
     "metadata": {},
     "output_type": "execute_result"
    }
   ],
   "source": [
    "bmi['Sex']= bmi.Sex.replace({'Men':'Male','Women':'Female'})\n",
    "bmi.head()"
   ]
  },
  {
   "cell_type": "markdown",
   "id": "e46f5b78",
   "metadata": {},
   "source": [
    "Combine table#1 and table #2"
   ]
  },
  {
   "cell_type": "code",
   "execution_count": 21,
   "id": "231462ab",
   "metadata": {},
   "outputs": [],
   "source": [
    "#df = pd.merge(df1,df2)"
   ]
  },
  {
   "cell_type": "code",
   "execution_count": 22,
   "id": "813b7c15",
   "metadata": {},
   "outputs": [
    {
     "data": {
      "text/html": [
       "<div>\n",
       "<style scoped>\n",
       "    .dataframe tbody tr th:only-of-type {\n",
       "        vertical-align: middle;\n",
       "    }\n",
       "\n",
       "    .dataframe tbody tr th {\n",
       "        vertical-align: top;\n",
       "    }\n",
       "\n",
       "    .dataframe thead th {\n",
       "        text-align: right;\n",
       "    }\n",
       "</style>\n",
       "<table border=\"1\" class=\"dataframe\">\n",
       "  <thead>\n",
       "    <tr style=\"text-align: right;\">\n",
       "      <th></th>\n",
       "      <th>GhoCode</th>\n",
       "      <th>Gho</th>\n",
       "      <th>Year</th>\n",
       "      <th>Region</th>\n",
       "      <th>IncomeGroup</th>\n",
       "      <th>Country</th>\n",
       "      <th>Sex</th>\n",
       "      <th>Value</th>\n",
       "      <th>Life expectancy</th>\n",
       "      <th>Healthy_Life expectancy</th>\n",
       "      <th>Entity</th>\n",
       "      <th>PPP</th>\n",
       "      <th>Population</th>\n",
       "    </tr>\n",
       "  </thead>\n",
       "  <tbody>\n",
       "    <tr>\n",
       "      <th>0</th>\n",
       "      <td>WHOSIS_000001</td>\n",
       "      <td>Life expectancy at birth (years)</td>\n",
       "      <td>2013</td>\n",
       "      <td>Eastern Mediterranean</td>\n",
       "      <td>NaN</td>\n",
       "      <td>Afghanistan</td>\n",
       "      <td>Male</td>\n",
       "      <td>61</td>\n",
       "      <td>61.0</td>\n",
       "      <td>NaN</td>\n",
       "      <td>Afghanistan</td>\n",
       "      <td>174.05948</td>\n",
       "      <td>3.154122e+07</td>\n",
       "    </tr>\n",
       "    <tr>\n",
       "      <th>1</th>\n",
       "      <td>WHOSIS_000001</td>\n",
       "      <td>Life expectancy at birth (years)</td>\n",
       "      <td>2013</td>\n",
       "      <td>Eastern Mediterranean</td>\n",
       "      <td>NaN</td>\n",
       "      <td>Afghanistan</td>\n",
       "      <td>Male</td>\n",
       "      <td>61</td>\n",
       "      <td>61.0</td>\n",
       "      <td>NaN</td>\n",
       "      <td>Africa</td>\n",
       "      <td>NaN</td>\n",
       "      <td>1.140181e+09</td>\n",
       "    </tr>\n",
       "    <tr>\n",
       "      <th>2</th>\n",
       "      <td>WHOSIS_000001</td>\n",
       "      <td>Life expectancy at birth (years)</td>\n",
       "      <td>2013</td>\n",
       "      <td>Eastern Mediterranean</td>\n",
       "      <td>NaN</td>\n",
       "      <td>Afghanistan</td>\n",
       "      <td>Male</td>\n",
       "      <td>61</td>\n",
       "      <td>61.0</td>\n",
       "      <td>NaN</td>\n",
       "      <td>Africa (UN)</td>\n",
       "      <td>NaN</td>\n",
       "      <td>1.140181e+09</td>\n",
       "    </tr>\n",
       "    <tr>\n",
       "      <th>3</th>\n",
       "      <td>WHOSIS_000001</td>\n",
       "      <td>Life expectancy at birth (years)</td>\n",
       "      <td>2013</td>\n",
       "      <td>Eastern Mediterranean</td>\n",
       "      <td>NaN</td>\n",
       "      <td>Afghanistan</td>\n",
       "      <td>Male</td>\n",
       "      <td>61</td>\n",
       "      <td>61.0</td>\n",
       "      <td>NaN</td>\n",
       "      <td>Albania</td>\n",
       "      <td>567.60480</td>\n",
       "      <td>2.887019e+06</td>\n",
       "    </tr>\n",
       "    <tr>\n",
       "      <th>4</th>\n",
       "      <td>WHOSIS_000001</td>\n",
       "      <td>Life expectancy at birth (years)</td>\n",
       "      <td>2013</td>\n",
       "      <td>Eastern Mediterranean</td>\n",
       "      <td>NaN</td>\n",
       "      <td>Afghanistan</td>\n",
       "      <td>Male</td>\n",
       "      <td>61</td>\n",
       "      <td>61.0</td>\n",
       "      <td>NaN</td>\n",
       "      <td>Algeria</td>\n",
       "      <td>788.07680</td>\n",
       "      <td>3.800063e+07</td>\n",
       "    </tr>\n",
       "  </tbody>\n",
       "</table>\n",
       "</div>"
      ],
      "text/plain": [
       "         GhoCode                               Gho  Year  \\\n",
       "0  WHOSIS_000001  Life expectancy at birth (years)  2013   \n",
       "1  WHOSIS_000001  Life expectancy at birth (years)  2013   \n",
       "2  WHOSIS_000001  Life expectancy at birth (years)  2013   \n",
       "3  WHOSIS_000001  Life expectancy at birth (years)  2013   \n",
       "4  WHOSIS_000001  Life expectancy at birth (years)  2013   \n",
       "\n",
       "                  Region IncomeGroup      Country   Sex  Value  \\\n",
       "0  Eastern Mediterranean         NaN  Afghanistan  Male     61   \n",
       "1  Eastern Mediterranean         NaN  Afghanistan  Male     61   \n",
       "2  Eastern Mediterranean         NaN  Afghanistan  Male     61   \n",
       "3  Eastern Mediterranean         NaN  Afghanistan  Male     61   \n",
       "4  Eastern Mediterranean         NaN  Afghanistan  Male     61   \n",
       "\n",
       "   Life expectancy  Healthy_Life expectancy       Entity        PPP  \\\n",
       "0             61.0                      NaN  Afghanistan  174.05948   \n",
       "1             61.0                      NaN       Africa        NaN   \n",
       "2             61.0                      NaN  Africa (UN)        NaN   \n",
       "3             61.0                      NaN      Albania  567.60480   \n",
       "4             61.0                      NaN      Algeria  788.07680   \n",
       "\n",
       "     Population  \n",
       "0  3.154122e+07  \n",
       "1  1.140181e+09  \n",
       "2  1.140181e+09  \n",
       "3  2.887019e+06  \n",
       "4  3.800063e+07  "
      ]
     },
     "execution_count": 22,
     "metadata": {},
     "output_type": "execute_result"
    }
   ],
   "source": [
    "expectancy_expenditure = pd.merge(healthy_life,expenditure)\n",
    "expectancy_expenditure.head()"
   ]
  },
  {
   "cell_type": "code",
   "execution_count": 23,
   "id": "a5d49b78",
   "metadata": {},
   "outputs": [],
   "source": [
    "# Combine expectancy_expenditure and BMI (table #3)"
   ]
  },
  {
   "cell_type": "code",
   "execution_count": 24,
   "id": "f4eca244",
   "metadata": {
    "scrolled": false
   },
   "outputs": [
    {
     "data": {
      "text/html": [
       "<div>\n",
       "<style scoped>\n",
       "    .dataframe tbody tr th:only-of-type {\n",
       "        vertical-align: middle;\n",
       "    }\n",
       "\n",
       "    .dataframe tbody tr th {\n",
       "        vertical-align: top;\n",
       "    }\n",
       "\n",
       "    .dataframe thead th {\n",
       "        text-align: right;\n",
       "    }\n",
       "</style>\n",
       "<table border=\"1\" class=\"dataframe\">\n",
       "  <thead>\n",
       "    <tr style=\"text-align: right;\">\n",
       "      <th></th>\n",
       "      <th>GhoCode</th>\n",
       "      <th>Gho</th>\n",
       "      <th>Year</th>\n",
       "      <th>Region</th>\n",
       "      <th>IncomeGroup</th>\n",
       "      <th>Country</th>\n",
       "      <th>Sex</th>\n",
       "      <th>Value</th>\n",
       "      <th>Life expectancy</th>\n",
       "      <th>Healthy_Life expectancy</th>\n",
       "      <th>Entity</th>\n",
       "      <th>PPP</th>\n",
       "      <th>Population</th>\n",
       "      <th>BMI</th>\n",
       "    </tr>\n",
       "  </thead>\n",
       "  <tbody>\n",
       "    <tr>\n",
       "      <th>0</th>\n",
       "      <td>WHOSIS_000001</td>\n",
       "      <td>Life expectancy at birth (years)</td>\n",
       "      <td>2013</td>\n",
       "      <td>Eastern Mediterranean</td>\n",
       "      <td>NaN</td>\n",
       "      <td>Afghanistan</td>\n",
       "      <td>Male</td>\n",
       "      <td>61</td>\n",
       "      <td>61.0</td>\n",
       "      <td>NaN</td>\n",
       "      <td>Afghanistan</td>\n",
       "      <td>174.05948</td>\n",
       "      <td>3.154122e+07</td>\n",
       "      <td>22.427785</td>\n",
       "    </tr>\n",
       "    <tr>\n",
       "      <th>1</th>\n",
       "      <td>WHOSIS_000001</td>\n",
       "      <td>Life expectancy at birth (years)</td>\n",
       "      <td>2013</td>\n",
       "      <td>Eastern Mediterranean</td>\n",
       "      <td>NaN</td>\n",
       "      <td>Afghanistan</td>\n",
       "      <td>Male</td>\n",
       "      <td>61</td>\n",
       "      <td>61.0</td>\n",
       "      <td>NaN</td>\n",
       "      <td>Africa</td>\n",
       "      <td>NaN</td>\n",
       "      <td>1.140181e+09</td>\n",
       "      <td>22.427785</td>\n",
       "    </tr>\n",
       "    <tr>\n",
       "      <th>2</th>\n",
       "      <td>WHOSIS_000001</td>\n",
       "      <td>Life expectancy at birth (years)</td>\n",
       "      <td>2013</td>\n",
       "      <td>Eastern Mediterranean</td>\n",
       "      <td>NaN</td>\n",
       "      <td>Afghanistan</td>\n",
       "      <td>Male</td>\n",
       "      <td>61</td>\n",
       "      <td>61.0</td>\n",
       "      <td>NaN</td>\n",
       "      <td>Africa (UN)</td>\n",
       "      <td>NaN</td>\n",
       "      <td>1.140181e+09</td>\n",
       "      <td>22.427785</td>\n",
       "    </tr>\n",
       "    <tr>\n",
       "      <th>3</th>\n",
       "      <td>WHOSIS_000001</td>\n",
       "      <td>Life expectancy at birth (years)</td>\n",
       "      <td>2013</td>\n",
       "      <td>Eastern Mediterranean</td>\n",
       "      <td>NaN</td>\n",
       "      <td>Afghanistan</td>\n",
       "      <td>Male</td>\n",
       "      <td>61</td>\n",
       "      <td>61.0</td>\n",
       "      <td>NaN</td>\n",
       "      <td>Albania</td>\n",
       "      <td>567.60480</td>\n",
       "      <td>2.887019e+06</td>\n",
       "      <td>22.427785</td>\n",
       "    </tr>\n",
       "    <tr>\n",
       "      <th>4</th>\n",
       "      <td>WHOSIS_000001</td>\n",
       "      <td>Life expectancy at birth (years)</td>\n",
       "      <td>2013</td>\n",
       "      <td>Eastern Mediterranean</td>\n",
       "      <td>NaN</td>\n",
       "      <td>Afghanistan</td>\n",
       "      <td>Male</td>\n",
       "      <td>61</td>\n",
       "      <td>61.0</td>\n",
       "      <td>NaN</td>\n",
       "      <td>Algeria</td>\n",
       "      <td>788.07680</td>\n",
       "      <td>3.800063e+07</td>\n",
       "      <td>22.427785</td>\n",
       "    </tr>\n",
       "  </tbody>\n",
       "</table>\n",
       "</div>"
      ],
      "text/plain": [
       "         GhoCode                               Gho  Year  \\\n",
       "0  WHOSIS_000001  Life expectancy at birth (years)  2013   \n",
       "1  WHOSIS_000001  Life expectancy at birth (years)  2013   \n",
       "2  WHOSIS_000001  Life expectancy at birth (years)  2013   \n",
       "3  WHOSIS_000001  Life expectancy at birth (years)  2013   \n",
       "4  WHOSIS_000001  Life expectancy at birth (years)  2013   \n",
       "\n",
       "                  Region IncomeGroup      Country   Sex  Value  \\\n",
       "0  Eastern Mediterranean         NaN  Afghanistan  Male     61   \n",
       "1  Eastern Mediterranean         NaN  Afghanistan  Male     61   \n",
       "2  Eastern Mediterranean         NaN  Afghanistan  Male     61   \n",
       "3  Eastern Mediterranean         NaN  Afghanistan  Male     61   \n",
       "4  Eastern Mediterranean         NaN  Afghanistan  Male     61   \n",
       "\n",
       "   Life expectancy  Healthy_Life expectancy       Entity        PPP  \\\n",
       "0             61.0                      NaN  Afghanistan  174.05948   \n",
       "1             61.0                      NaN       Africa        NaN   \n",
       "2             61.0                      NaN  Africa (UN)        NaN   \n",
       "3             61.0                      NaN      Albania  567.60480   \n",
       "4             61.0                      NaN      Algeria  788.07680   \n",
       "\n",
       "     Population        BMI  \n",
       "0  3.154122e+07  22.427785  \n",
       "1  1.140181e+09  22.427785  \n",
       "2  1.140181e+09  22.427785  \n",
       "3  2.887019e+06  22.427785  \n",
       "4  3.800063e+07  22.427785  "
      ]
     },
     "execution_count": 24,
     "metadata": {},
     "output_type": "execute_result"
    }
   ],
   "source": [
    "combine = pd.merge(expectancy_expenditure, bmi)\n",
    "combine.head()"
   ]
  },
  {
   "cell_type": "markdown",
   "id": "5a97b554",
   "metadata": {},
   "source": [
    "# Data cleaning"
   ]
  },
  {
   "cell_type": "code",
   "execution_count": 25,
   "id": "3ee9bd0c",
   "metadata": {},
   "outputs": [
    {
     "data": {
      "text/plain": [
       "(729240, 14)"
      ]
     },
     "execution_count": 25,
     "metadata": {},
     "output_type": "execute_result"
    }
   ],
   "source": [
    "combine.shape"
   ]
  },
  {
   "cell_type": "code",
   "execution_count": 26,
   "id": "98190553",
   "metadata": {},
   "outputs": [
    {
     "name": "stdout",
     "output_type": "stream",
     "text": [
      "<class 'pandas.core.frame.DataFrame'>\n",
      "RangeIndex: 729240 entries, 0 to 729239\n",
      "Data columns (total 14 columns):\n",
      " #   Column                   Non-Null Count   Dtype  \n",
      "---  ------                   --------------   -----  \n",
      " 0   GhoCode                  729240 non-null  object \n",
      " 1   Gho                      729240 non-null  object \n",
      " 2   Year                     729240 non-null  int64  \n",
      " 3   Region                   729240 non-null  object \n",
      " 4   IncomeGroup              625518 non-null  object \n",
      " 5   Country                  729240 non-null  object \n",
      " 6   Sex                      729240 non-null  object \n",
      " 7   Value                    729240 non-null  int64  \n",
      " 8   Life expectancy          417012 non-null  float64\n",
      " 9   Healthy_Life expectancy  312228 non-null  float64\n",
      " 10  Entity                   729240 non-null  object \n",
      " 11  PPP                      425508 non-null  float64\n",
      " 12  Population               637908 non-null  float64\n",
      " 13  BMI                      729240 non-null  float64\n",
      "dtypes: float64(5), int64(2), object(7)\n",
      "memory usage: 77.9+ MB\n"
     ]
    }
   ],
   "source": [
    "#Identify missing/null values\n",
    "\n",
    "combine.info()"
   ]
  },
  {
   "cell_type": "code",
   "execution_count": 27,
   "id": "82fd01f6",
   "metadata": {},
   "outputs": [],
   "source": [
    "# keep all the null values."
   ]
  },
  {
   "cell_type": "markdown",
   "id": "ba10b244",
   "metadata": {},
   "source": [
    "Checking duplicates"
   ]
  },
  {
   "cell_type": "code",
   "execution_count": 28,
   "id": "064b6c97",
   "metadata": {},
   "outputs": [
    {
     "data": {
      "text/plain": [
       "False"
      ]
     },
     "execution_count": 28,
     "metadata": {},
     "output_type": "execute_result"
    }
   ],
   "source": [
    "duplicate_all = combine.duplicated().any()\n",
    "duplicate_all"
   ]
  },
  {
   "cell_type": "code",
   "execution_count": 29,
   "id": "d940d673",
   "metadata": {},
   "outputs": [],
   "source": [
    "# I dont have any duplicate values"
   ]
  },
  {
   "cell_type": "markdown",
   "id": "086cfb17",
   "metadata": {},
   "source": [
    "checking the data types"
   ]
  },
  {
   "cell_type": "code",
   "execution_count": 30,
   "id": "41922dce",
   "metadata": {},
   "outputs": [
    {
     "data": {
      "text/plain": [
       "GhoCode                     object\n",
       "Gho                         object\n",
       "Year                         int64\n",
       "Region                      object\n",
       "IncomeGroup                 object\n",
       "Country                     object\n",
       "Sex                         object\n",
       "Value                        int64\n",
       "Life expectancy            float64\n",
       "Healthy_Life expectancy    float64\n",
       "Entity                      object\n",
       "PPP                        float64\n",
       "Population                 float64\n",
       "BMI                        float64\n",
       "dtype: object"
      ]
     },
     "execution_count": 30,
     "metadata": {},
     "output_type": "execute_result"
    }
   ],
   "source": [
    "combine.dtypes"
   ]
  },
  {
   "cell_type": "code",
   "execution_count": 31,
   "id": "628e1194",
   "metadata": {},
   "outputs": [],
   "source": [
    "# All columns have in the right format."
   ]
  },
  {
   "cell_type": "markdown",
   "id": "101efcd8",
   "metadata": {},
   "source": [
    "Checking if there is any Outlier."
   ]
  },
  {
   "cell_type": "code",
   "execution_count": 32,
   "id": "88067d5c",
   "metadata": {},
   "outputs": [
    {
     "data": {
      "image/png": "[encoded data removed]",
      "text/plain": [
       "<Figure size 1200x400 with 1 Axes>"
      ]
     },
     "metadata": {},
     "output_type": "display_data"
    }
   ],
   "source": [
    "# Box plot can tell me whether I have an outlier or not\n",
    "\n",
    "plt.figure(figsize = (12,4))\n",
    "sns.boxplot(combine)\n",
    "plt.xticks(rotation=30);"
   ]
  },
  {
   "cell_type": "code",
   "execution_count": 33,
   "id": "eb947475",
   "metadata": {},
   "outputs": [],
   "source": [
    "#????? how I treat the null values and the outliers"
   ]
  },
  {
   "cell_type": "markdown",
   "id": "9972caad",
   "metadata": {},
   "source": [
    "    So population have alot of high_outlier, I use IQR method to drop all the outliers."
   ]
  },
  {
   "cell_type": "code",
   "execution_count": 34,
   "id": "4c9643e9",
   "metadata": {},
   "outputs": [
    {
     "data": {
      "text/html": [
       "<div>\n",
       "<style scoped>\n",
       "    .dataframe tbody tr th:only-of-type {\n",
       "        vertical-align: middle;\n",
       "    }\n",
       "\n",
       "    .dataframe tbody tr th {\n",
       "        vertical-align: top;\n",
       "    }\n",
       "\n",
       "    .dataframe thead th {\n",
       "        text-align: right;\n",
       "    }\n",
       "</style>\n",
       "<table border=\"1\" class=\"dataframe\">\n",
       "  <thead>\n",
       "    <tr style=\"text-align: right;\">\n",
       "      <th></th>\n",
       "      <th>Year</th>\n",
       "      <th>Value</th>\n",
       "      <th>Life expectancy</th>\n",
       "      <th>Healthy_Life expectancy</th>\n",
       "      <th>PPP</th>\n",
       "      <th>Population</th>\n",
       "      <th>BMI</th>\n",
       "    </tr>\n",
       "  </thead>\n",
       "  <tbody>\n",
       "    <tr>\n",
       "      <th>count</th>\n",
       "      <td>729240.000</td>\n",
       "      <td>729240.000</td>\n",
       "      <td>417012.000</td>\n",
       "      <td>312228.000</td>\n",
       "      <td>425508.000</td>\n",
       "      <td>6.379080e+05</td>\n",
       "      <td>729240.000</td>\n",
       "    </tr>\n",
       "    <tr>\n",
       "      <th>mean</th>\n",
       "      <td>2005.675</td>\n",
       "      <td>65.146</td>\n",
       "      <td>68.670</td>\n",
       "      <td>60.438</td>\n",
       "      <td>1067.822</td>\n",
       "      <td>1.307063e+08</td>\n",
       "      <td>25.302</td>\n",
       "    </tr>\n",
       "    <tr>\n",
       "      <th>std</th>\n",
       "      <td>8.438</td>\n",
       "      <td>10.317</td>\n",
       "      <td>9.985</td>\n",
       "      <td>8.759</td>\n",
       "      <td>1384.323</td>\n",
       "      <td>6.057709e+08</td>\n",
       "      <td>2.658</td>\n",
       "    </tr>\n",
       "    <tr>\n",
       "      <th>min</th>\n",
       "      <td>1990.000</td>\n",
       "      <td>33.000</td>\n",
       "      <td>38.000</td>\n",
       "      <td>33.000</td>\n",
       "      <td>6.932</td>\n",
       "      <td>7.690000e+02</td>\n",
       "      <td>18.530</td>\n",
       "    </tr>\n",
       "    <tr>\n",
       "      <th>25%</th>\n",
       "      <td>2000.000</td>\n",
       "      <td>59.000</td>\n",
       "      <td>63.000</td>\n",
       "      <td>55.000</td>\n",
       "      <td>159.162</td>\n",
       "      <td>4.066370e+05</td>\n",
       "      <td>23.381</td>\n",
       "    </tr>\n",
       "    <tr>\n",
       "      <th>50%</th>\n",
       "      <td>2012.000</td>\n",
       "      <td>66.000</td>\n",
       "      <td>71.000</td>\n",
       "      <td>62.000</td>\n",
       "      <td>521.961</td>\n",
       "      <td>5.409283e+06</td>\n",
       "      <td>25.506</td>\n",
       "    </tr>\n",
       "    <tr>\n",
       "      <th>75%</th>\n",
       "      <td>2013.000</td>\n",
       "      <td>73.000</td>\n",
       "      <td>76.000</td>\n",
       "      <td>67.000</td>\n",
       "      <td>1359.007</td>\n",
       "      <td>2.442773e+07</td>\n",
       "      <td>26.849</td>\n",
       "    </tr>\n",
       "    <tr>\n",
       "      <th>max</th>\n",
       "      <td>2013.000</td>\n",
       "      <td>87.000</td>\n",
       "      <td>87.000</td>\n",
       "      <td>78.000</td>\n",
       "      <td>8522.126</td>\n",
       "      <td>7.250593e+09</td>\n",
       "      <td>34.335</td>\n",
       "    </tr>\n",
       "  </tbody>\n",
       "</table>\n",
       "</div>"
      ],
      "text/plain": [
       "             Year       Value  Life expectancy  Healthy_Life expectancy  \\\n",
       "count  729240.000  729240.000       417012.000               312228.000   \n",
       "mean     2005.675      65.146           68.670                   60.438   \n",
       "std         8.438      10.317            9.985                    8.759   \n",
       "min      1990.000      33.000           38.000                   33.000   \n",
       "25%      2000.000      59.000           63.000                   55.000   \n",
       "50%      2012.000      66.000           71.000                   62.000   \n",
       "75%      2013.000      73.000           76.000                   67.000   \n",
       "max      2013.000      87.000           87.000                   78.000   \n",
       "\n",
       "              PPP    Population         BMI  \n",
       "count  425508.000  6.379080e+05  729240.000  \n",
       "mean     1067.822  1.307063e+08      25.302  \n",
       "std      1384.323  6.057709e+08       2.658  \n",
       "min         6.932  7.690000e+02      18.530  \n",
       "25%       159.162  4.066370e+05      23.381  \n",
       "50%       521.961  5.409283e+06      25.506  \n",
       "75%      1359.007  2.442773e+07      26.849  \n",
       "max      8522.126  7.250593e+09      34.335  "
      ]
     },
     "execution_count": 34,
     "metadata": {},
     "output_type": "execute_result"
    }
   ],
   "source": [
    "combine_desc = combine.describe().round(3)\n",
    "combine_desc"
   ]
  },
  {
   "cell_type": "code",
   "execution_count": 35,
   "id": "10cc6283",
   "metadata": {},
   "outputs": [
    {
     "data": {
      "text/plain": [
       "60459374.5"
      ]
     },
     "execution_count": 35,
     "metadata": {},
     "output_type": "execute_result"
    }
   ],
   "source": [
    "#high_outlier = (Q3 + 1.5 IQR), IQR = 75% -25%\n",
    "\n",
    "high_outlier = combine_desc.loc['75%','Population'] + 1.5*(combine_desc.loc['75%', 'Population'] - combine_desc.loc['25%', 'Population'])\n",
    "high_outlier"
   ]
  },
  {
   "cell_type": "code",
   "execution_count": 36,
   "id": "f3e4bcab",
   "metadata": {},
   "outputs": [
    {
     "data": {
      "text/html": [
       "<div>\n",
       "<style scoped>\n",
       "    .dataframe tbody tr th:only-of-type {\n",
       "        vertical-align: middle;\n",
       "    }\n",
       "\n",
       "    .dataframe tbody tr th {\n",
       "        vertical-align: top;\n",
       "    }\n",
       "\n",
       "    .dataframe thead th {\n",
       "        text-align: right;\n",
       "    }\n",
       "</style>\n",
       "<table border=\"1\" class=\"dataframe\">\n",
       "  <thead>\n",
       "    <tr style=\"text-align: right;\">\n",
       "      <th></th>\n",
       "      <th>GhoCode</th>\n",
       "      <th>Gho</th>\n",
       "      <th>Year</th>\n",
       "      <th>Region</th>\n",
       "      <th>IncomeGroup</th>\n",
       "      <th>Country</th>\n",
       "      <th>Sex</th>\n",
       "      <th>Value</th>\n",
       "      <th>Life expectancy</th>\n",
       "      <th>Healthy_Life expectancy</th>\n",
       "      <th>Entity</th>\n",
       "      <th>PPP</th>\n",
       "      <th>Population</th>\n",
       "      <th>BMI</th>\n",
       "    </tr>\n",
       "  </thead>\n",
       "  <tbody>\n",
       "    <tr>\n",
       "      <th>1</th>\n",
       "      <td>WHOSIS_000001</td>\n",
       "      <td>Life expectancy at birth (years)</td>\n",
       "      <td>2013</td>\n",
       "      <td>Eastern Mediterranean</td>\n",
       "      <td>NaN</td>\n",
       "      <td>Afghanistan</td>\n",
       "      <td>Male</td>\n",
       "      <td>61</td>\n",
       "      <td>61.0</td>\n",
       "      <td>NaN</td>\n",
       "      <td>Africa</td>\n",
       "      <td>NaN</td>\n",
       "      <td>1.140181e+09</td>\n",
       "      <td>22.427785</td>\n",
       "    </tr>\n",
       "    <tr>\n",
       "      <th>2</th>\n",
       "      <td>WHOSIS_000001</td>\n",
       "      <td>Life expectancy at birth (years)</td>\n",
       "      <td>2013</td>\n",
       "      <td>Eastern Mediterranean</td>\n",
       "      <td>NaN</td>\n",
       "      <td>Afghanistan</td>\n",
       "      <td>Male</td>\n",
       "      <td>61</td>\n",
       "      <td>61.0</td>\n",
       "      <td>NaN</td>\n",
       "      <td>Africa (UN)</td>\n",
       "      <td>NaN</td>\n",
       "      <td>1.140181e+09</td>\n",
       "      <td>22.427785</td>\n",
       "    </tr>\n",
       "    <tr>\n",
       "      <th>13</th>\n",
       "      <td>WHOSIS_000001</td>\n",
       "      <td>Life expectancy at birth (years)</td>\n",
       "      <td>2013</td>\n",
       "      <td>Eastern Mediterranean</td>\n",
       "      <td>NaN</td>\n",
       "      <td>Afghanistan</td>\n",
       "      <td>Male</td>\n",
       "      <td>61</td>\n",
       "      <td>61.0</td>\n",
       "      <td>NaN</td>\n",
       "      <td>Asia</td>\n",
       "      <td>NaN</td>\n",
       "      <td>4.365287e+09</td>\n",
       "      <td>22.427785</td>\n",
       "    </tr>\n",
       "    <tr>\n",
       "      <th>14</th>\n",
       "      <td>WHOSIS_000001</td>\n",
       "      <td>Life expectancy at birth (years)</td>\n",
       "      <td>2013</td>\n",
       "      <td>Eastern Mediterranean</td>\n",
       "      <td>NaN</td>\n",
       "      <td>Afghanistan</td>\n",
       "      <td>Male</td>\n",
       "      <td>61</td>\n",
       "      <td>61.0</td>\n",
       "      <td>NaN</td>\n",
       "      <td>Asia (UN)</td>\n",
       "      <td>NaN</td>\n",
       "      <td>4.366454e+09</td>\n",
       "      <td>22.427785</td>\n",
       "    </tr>\n",
       "    <tr>\n",
       "      <th>21</th>\n",
       "      <td>WHOSIS_000001</td>\n",
       "      <td>Life expectancy at birth (years)</td>\n",
       "      <td>2013</td>\n",
       "      <td>Eastern Mediterranean</td>\n",
       "      <td>NaN</td>\n",
       "      <td>Afghanistan</td>\n",
       "      <td>Male</td>\n",
       "      <td>61</td>\n",
       "      <td>61.0</td>\n",
       "      <td>NaN</td>\n",
       "      <td>Bangladesh</td>\n",
       "      <td>83.44547</td>\n",
       "      <td>1.540301e+08</td>\n",
       "      <td>22.427785</td>\n",
       "    </tr>\n",
       "  </tbody>\n",
       "</table>\n",
       "</div>"
      ],
      "text/plain": [
       "          GhoCode                               Gho  Year  \\\n",
       "1   WHOSIS_000001  Life expectancy at birth (years)  2013   \n",
       "2   WHOSIS_000001  Life expectancy at birth (years)  2013   \n",
       "13  WHOSIS_000001  Life expectancy at birth (years)  2013   \n",
       "14  WHOSIS_000001  Life expectancy at birth (years)  2013   \n",
       "21  WHOSIS_000001  Life expectancy at birth (years)  2013   \n",
       "\n",
       "                   Region IncomeGroup      Country   Sex  Value  \\\n",
       "1   Eastern Mediterranean         NaN  Afghanistan  Male     61   \n",
       "2   Eastern Mediterranean         NaN  Afghanistan  Male     61   \n",
       "13  Eastern Mediterranean         NaN  Afghanistan  Male     61   \n",
       "14  Eastern Mediterranean         NaN  Afghanistan  Male     61   \n",
       "21  Eastern Mediterranean         NaN  Afghanistan  Male     61   \n",
       "\n",
       "    Life expectancy  Healthy_Life expectancy       Entity       PPP  \\\n",
       "1              61.0                      NaN       Africa       NaN   \n",
       "2              61.0                      NaN  Africa (UN)       NaN   \n",
       "13             61.0                      NaN         Asia       NaN   \n",
       "14             61.0                      NaN    Asia (UN)       NaN   \n",
       "21             61.0                      NaN   Bangladesh  83.44547   \n",
       "\n",
       "      Population        BMI  \n",
       "1   1.140181e+09  22.427785  \n",
       "2   1.140181e+09  22.427785  \n",
       "13  4.365287e+09  22.427785  \n",
       "14  4.366454e+09  22.427785  \n",
       "21  1.540301e+08  22.427785  "
      ]
     },
     "execution_count": 36,
     "metadata": {},
     "output_type": "execute_result"
    }
   ],
   "source": [
    "all_high_outlier= combine.loc[combine['Population']> high_outlier]\n",
    "all_high_outlier.head()"
   ]
  },
  {
   "cell_type": "code",
   "execution_count": 37,
   "id": "a5925e0a",
   "metadata": {
    "scrolled": true
   },
   "outputs": [
    {
     "name": "stdout",
     "output_type": "stream",
     "text": [
      "89916\n"
     ]
    }
   ],
   "source": [
    "print(len(all_high_outlier))"
   ]
  },
  {
   "cell_type": "code",
   "execution_count": 38,
   "id": "2ba24e9d",
   "metadata": {},
   "outputs": [
    {
     "data": {
      "text/plain": [
       "60459374.5"
      ]
     },
     "execution_count": 38,
     "metadata": {},
     "output_type": "execute_result"
    }
   ],
   "source": [
    "high_outlier"
   ]
  },
  {
   "cell_type": "code",
   "execution_count": 39,
   "id": "b3965c02",
   "metadata": {},
   "outputs": [
    {
     "data": {
      "text/html": [
       "<div>\n",
       "<style scoped>\n",
       "    .dataframe tbody tr th:only-of-type {\n",
       "        vertical-align: middle;\n",
       "    }\n",
       "\n",
       "    .dataframe tbody tr th {\n",
       "        vertical-align: top;\n",
       "    }\n",
       "\n",
       "    .dataframe thead th {\n",
       "        text-align: right;\n",
       "    }\n",
       "</style>\n",
       "<table border=\"1\" class=\"dataframe\">\n",
       "  <thead>\n",
       "    <tr style=\"text-align: right;\">\n",
       "      <th></th>\n",
       "      <th>GhoCode</th>\n",
       "      <th>Gho</th>\n",
       "      <th>Year</th>\n",
       "      <th>Region</th>\n",
       "      <th>IncomeGroup</th>\n",
       "      <th>Country</th>\n",
       "      <th>Sex</th>\n",
       "      <th>Value</th>\n",
       "      <th>Life expectancy</th>\n",
       "      <th>Healthy_Life expectancy</th>\n",
       "      <th>Entity</th>\n",
       "      <th>PPP</th>\n",
       "      <th>Population</th>\n",
       "      <th>BMI</th>\n",
       "    </tr>\n",
       "  </thead>\n",
       "  <tbody>\n",
       "    <tr>\n",
       "      <th>0</th>\n",
       "      <td>WHOSIS_000001</td>\n",
       "      <td>Life expectancy at birth (years)</td>\n",
       "      <td>2013</td>\n",
       "      <td>Eastern Mediterranean</td>\n",
       "      <td>NaN</td>\n",
       "      <td>Afghanistan</td>\n",
       "      <td>Male</td>\n",
       "      <td>61</td>\n",
       "      <td>61.0</td>\n",
       "      <td>NaN</td>\n",
       "      <td>Afghanistan</td>\n",
       "      <td>174.05948</td>\n",
       "      <td>31541216.0</td>\n",
       "      <td>22.427785</td>\n",
       "    </tr>\n",
       "    <tr>\n",
       "      <th>3</th>\n",
       "      <td>WHOSIS_000001</td>\n",
       "      <td>Life expectancy at birth (years)</td>\n",
       "      <td>2013</td>\n",
       "      <td>Eastern Mediterranean</td>\n",
       "      <td>NaN</td>\n",
       "      <td>Afghanistan</td>\n",
       "      <td>Male</td>\n",
       "      <td>61</td>\n",
       "      <td>61.0</td>\n",
       "      <td>NaN</td>\n",
       "      <td>Albania</td>\n",
       "      <td>567.60480</td>\n",
       "      <td>2887019.0</td>\n",
       "      <td>22.427785</td>\n",
       "    </tr>\n",
       "    <tr>\n",
       "      <th>4</th>\n",
       "      <td>WHOSIS_000001</td>\n",
       "      <td>Life expectancy at birth (years)</td>\n",
       "      <td>2013</td>\n",
       "      <td>Eastern Mediterranean</td>\n",
       "      <td>NaN</td>\n",
       "      <td>Afghanistan</td>\n",
       "      <td>Male</td>\n",
       "      <td>61</td>\n",
       "      <td>61.0</td>\n",
       "      <td>NaN</td>\n",
       "      <td>Algeria</td>\n",
       "      <td>788.07680</td>\n",
       "      <td>38000628.0</td>\n",
       "      <td>22.427785</td>\n",
       "    </tr>\n",
       "    <tr>\n",
       "      <th>5</th>\n",
       "      <td>WHOSIS_000001</td>\n",
       "      <td>Life expectancy at birth (years)</td>\n",
       "      <td>2013</td>\n",
       "      <td>Eastern Mediterranean</td>\n",
       "      <td>NaN</td>\n",
       "      <td>Afghanistan</td>\n",
       "      <td>Male</td>\n",
       "      <td>61</td>\n",
       "      <td>61.0</td>\n",
       "      <td>NaN</td>\n",
       "      <td>American Samoa</td>\n",
       "      <td>NaN</td>\n",
       "      <td>53017.0</td>\n",
       "      <td>22.427785</td>\n",
       "    </tr>\n",
       "    <tr>\n",
       "      <th>6</th>\n",
       "      <td>WHOSIS_000001</td>\n",
       "      <td>Life expectancy at birth (years)</td>\n",
       "      <td>2013</td>\n",
       "      <td>Eastern Mediterranean</td>\n",
       "      <td>NaN</td>\n",
       "      <td>Afghanistan</td>\n",
       "      <td>Male</td>\n",
       "      <td>61</td>\n",
       "      <td>61.0</td>\n",
       "      <td>NaN</td>\n",
       "      <td>Andorra</td>\n",
       "      <td>2755.26500</td>\n",
       "      <td>71385.0</td>\n",
       "      <td>22.427785</td>\n",
       "    </tr>\n",
       "  </tbody>\n",
       "</table>\n",
       "</div>"
      ],
      "text/plain": [
       "         GhoCode                               Gho  Year  \\\n",
       "0  WHOSIS_000001  Life expectancy at birth (years)  2013   \n",
       "3  WHOSIS_000001  Life expectancy at birth (years)  2013   \n",
       "4  WHOSIS_000001  Life expectancy at birth (years)  2013   \n",
       "5  WHOSIS_000001  Life expectancy at birth (years)  2013   \n",
       "6  WHOSIS_000001  Life expectancy at birth (years)  2013   \n",
       "\n",
       "                  Region IncomeGroup      Country   Sex  Value  \\\n",
       "0  Eastern Mediterranean         NaN  Afghanistan  Male     61   \n",
       "3  Eastern Mediterranean         NaN  Afghanistan  Male     61   \n",
       "4  Eastern Mediterranean         NaN  Afghanistan  Male     61   \n",
       "5  Eastern Mediterranean         NaN  Afghanistan  Male     61   \n",
       "6  Eastern Mediterranean         NaN  Afghanistan  Male     61   \n",
       "\n",
       "   Life expectancy  Healthy_Life expectancy          Entity         PPP  \\\n",
       "0             61.0                      NaN     Afghanistan   174.05948   \n",
       "3             61.0                      NaN         Albania   567.60480   \n",
       "4             61.0                      NaN         Algeria   788.07680   \n",
       "5             61.0                      NaN  American Samoa         NaN   \n",
       "6             61.0                      NaN         Andorra  2755.26500   \n",
       "\n",
       "   Population        BMI  \n",
       "0  31541216.0  22.427785  \n",
       "3   2887019.0  22.427785  \n",
       "4  38000628.0  22.427785  \n",
       "5     53017.0  22.427785  \n",
       "6     71385.0  22.427785  "
      ]
     },
     "execution_count": 39,
     "metadata": {},
     "output_type": "execute_result"
    }
   ],
   "source": [
    "combine_df = combine[combine['Population']<= high_outlier]\n",
    "combine_df.head()"
   ]
  },
  {
   "cell_type": "code",
   "execution_count": 40,
   "id": "1017c70b",
   "metadata": {},
   "outputs": [
    {
     "data": {
      "text/plain": [
       "(547992, 14)"
      ]
     },
     "execution_count": 40,
     "metadata": {},
     "output_type": "execute_result"
    }
   ],
   "source": [
    "combine_df.shape"
   ]
  },
  {
   "cell_type": "markdown",
   "id": "53e0807e",
   "metadata": {},
   "source": [
    "# Exploratory Data Analysis (EDA)"
   ]
  },
  {
   "cell_type": "markdown",
   "id": "b85245c8",
   "metadata": {},
   "source": [
    "I am looking\n",
    " * The distribution of healthy life expectancy and life expectancy through the world.(by country and by income group)\n",
    " * Which country has the top life expectancy and healthy life expectancy and which one is the bottom. \n",
    " * How does the number of healthy years lose change overtime?\n",
    " * How does healthy life expectancy correlate with life expectancy, health expenditure, BMI and population in different demographic groups such as age, geographical regions and income groups across the world?\n",
    " * What is the relationship between healthy life expectancy and BMI through time? Are there any patterns based on different BMI categories, and does it affect by gender?"
   ]
  },
  {
   "cell_type": "code",
   "execution_count": 41,
   "id": "8889a875",
   "metadata": {},
   "outputs": [
    {
     "data": {
      "text/html": [
       "<div>\n",
       "<style scoped>\n",
       "    .dataframe tbody tr th:only-of-type {\n",
       "        vertical-align: middle;\n",
       "    }\n",
       "\n",
       "    .dataframe tbody tr th {\n",
       "        vertical-align: top;\n",
       "    }\n",
       "\n",
       "    .dataframe thead th {\n",
       "        text-align: right;\n",
       "    }\n",
       "</style>\n",
       "<table border=\"1\" class=\"dataframe\">\n",
       "  <thead>\n",
       "    <tr style=\"text-align: right;\">\n",
       "      <th></th>\n",
       "      <th>Life expectancy</th>\n",
       "      <th>Healthy_Life expectancy</th>\n",
       "    </tr>\n",
       "    <tr>\n",
       "      <th>Country</th>\n",
       "      <th></th>\n",
       "      <th></th>\n",
       "    </tr>\n",
       "  </thead>\n",
       "  <tbody>\n",
       "    <tr>\n",
       "      <th>Japan</th>\n",
       "      <td>81.817621</td>\n",
       "      <td>74.156012</td>\n",
       "    </tr>\n",
       "    <tr>\n",
       "      <th>Switzerland</th>\n",
       "      <td>80.804714</td>\n",
       "      <td>71.486301</td>\n",
       "    </tr>\n",
       "    <tr>\n",
       "      <th>Iceland</th>\n",
       "      <td>80.692480</td>\n",
       "      <td>71.656012</td>\n",
       "    </tr>\n",
       "    <tr>\n",
       "      <th>Australia</th>\n",
       "      <td>80.551627</td>\n",
       "      <td>71.651446</td>\n",
       "    </tr>\n",
       "    <tr>\n",
       "      <th>Sweden</th>\n",
       "      <td>80.448934</td>\n",
       "      <td>70.990868</td>\n",
       "    </tr>\n",
       "    <tr>\n",
       "      <th>...</th>\n",
       "      <td>...</td>\n",
       "      <td>...</td>\n",
       "    </tr>\n",
       "    <tr>\n",
       "      <th>Mozambique</th>\n",
       "      <td>49.240741</td>\n",
       "      <td>44.133181</td>\n",
       "    </tr>\n",
       "    <tr>\n",
       "      <th>Central African Republic</th>\n",
       "      <td>48.710438</td>\n",
       "      <td>41.802892</td>\n",
       "    </tr>\n",
       "    <tr>\n",
       "      <th>Chad</th>\n",
       "      <td>48.416386</td>\n",
       "      <td>42.472603</td>\n",
       "    </tr>\n",
       "    <tr>\n",
       "      <th>Angola</th>\n",
       "      <td>47.644220</td>\n",
       "      <td>42.468037</td>\n",
       "    </tr>\n",
       "    <tr>\n",
       "      <th>Sierra Leone</th>\n",
       "      <td>41.900112</td>\n",
       "      <td>37.128615</td>\n",
       "    </tr>\n",
       "  </tbody>\n",
       "</table>\n",
       "<p>177 rows × 2 columns</p>\n",
       "</div>"
      ],
      "text/plain": [
       "                          Life expectancy  Healthy_Life expectancy\n",
       "Country                                                           \n",
       "Japan                           81.817621                74.156012\n",
       "Switzerland                     80.804714                71.486301\n",
       "Iceland                         80.692480                71.656012\n",
       "Australia                       80.551627                71.651446\n",
       "Sweden                          80.448934                70.990868\n",
       "...                                   ...                      ...\n",
       "Mozambique                      49.240741                44.133181\n",
       "Central African Republic        48.710438                41.802892\n",
       "Chad                            48.416386                42.472603\n",
       "Angola                          47.644220                42.468037\n",
       "Sierra Leone                    41.900112                37.128615\n",
       "\n",
       "[177 rows x 2 columns]"
      ]
     },
     "execution_count": 41,
     "metadata": {},
     "output_type": "execute_result"
    }
   ],
   "source": [
    "expectancy_country = combine_df.groupby('Country')[['Life expectancy','Healthy_Life expectancy']].mean().sort_values(by = 'Life expectancy', ascending = False)\n",
    "expectancy_country"
   ]
  },
  {
   "cell_type": "markdown",
   "id": "60ad3381",
   "metadata": {},
   "source": [
    "Japan has the heighest life expectancy and healthy life expectancy.\n",
    "Sierra Leone has the lowest life expectancy and healy life expectancy."
   ]
  },
  {
   "cell_type": "code",
   "execution_count": 42,
   "id": "d749ba05",
   "metadata": {},
   "outputs": [
    {
     "data": {
      "image/png": "[encoded data removed]",
      "text/plain": [
       "<Figure size 800x400 with 1 Axes>"
      ]
     },
     "metadata": {},
     "output_type": "display_data"
    }
   ],
   "source": [
    "# Distribution of the average life expectancy through the world.\n",
    "expectancy_country['Life expectancy'].hist(bins = 25,\n",
    "                            color = 'coral',\n",
    "                            edgecolor = 'black',\n",
    "                            figsize = (8,4))\n",
    "\n",
    "plt.title('Distribution of Life Expectancy', fontsize = 16);"
   ]
  },
  {
   "cell_type": "code",
   "execution_count": 43,
   "id": "ae7b61fb",
   "metadata": {},
   "outputs": [
    {
     "data": {
      "image/png": "[encoded data removed]",
      "text/plain": [
       "<Figure size 800x400 with 1 Axes>"
      ]
     },
     "metadata": {},
     "output_type": "display_data"
    }
   ],
   "source": [
    "# Distribution of the average health life expectancy through the world.\n",
    "expectancy_country['Healthy_Life expectancy'].hist(bins = 25,\n",
    "                            color = 'lightblue',\n",
    "                            edgecolor = 'black',\n",
    "                            figsize = (8,4))\n",
    "\n",
    "plt.title('Distribution of Healthy Life Expectancy', fontsize = 16);"
   ]
  },
  {
   "cell_type": "code",
   "execution_count": 44,
   "id": "4ba83c52",
   "metadata": {},
   "outputs": [
    {
     "data": {
      "image/png": "[encoded data removed]",
      "text/plain": [
       "<Figure size 800x400 with 1 Axes>"
      ]
     },
     "metadata": {},
     "output_type": "display_data"
    }
   ],
   "source": [
    "# Distribution of the average life expectancy and average healthy life expectancy through the world.\n",
    "plt.figure(figsize = (8,4))\n",
    "sns.histplot(data = expectancy_country, kde = True)\n",
    "# kde stands for Kernel Density Estimation, is a method used to visualize the probability distribution of a continuous random variable.\n",
    "plt.title ('Distribution of Life Expectancy VS Healthy life Expectancy');"
   ]
  },
  {
   "cell_type": "markdown",
   "id": "feb94b18",
   "metadata": {},
   "source": [
    "Both distribution tables have a negatively skewed data (their mean is less than the median)."
   ]
  },
  {
   "cell_type": "markdown",
   "id": "60b0995c",
   "metadata": {},
   "source": [
    "Distribution of healthy life expectancy in different income groups"
   ]
  },
  {
   "cell_type": "code",
   "execution_count": 45,
   "id": "32e90a93",
   "metadata": {},
   "outputs": [
    {
     "data": {
      "image/png": "[encoded data removed]",
      "text/plain": [
       "<Figure size 800x400 with 1 Axes>"
      ]
     },
     "metadata": {},
     "output_type": "display_data"
    }
   ],
   "source": [
    "# Violin plot of healthy life expectancy by income groups\n",
    "plt.figure(figsize = (8, 4))\n",
    "sns.violinplot(data = combine_df, x = 'IncomeGroup', y = 'Healthy_Life expectancy')\n",
    "plt.xlabel('IncomeGroups')\n",
    "plt.ylabel('Healthy life expectancy')\n",
    "plt.title('Healthy Life Expectancy Distribution by Income Groups')\n",
    "plt.show()"
   ]
  },
  {
   "cell_type": "markdown",
   "id": "4b52e524",
   "metadata": {},
   "source": [
    "High income groups have high healthy life expectancy. On the otherhand low income groups have low health life expectancy."
   ]
  },
  {
   "cell_type": "code",
   "execution_count": 46,
   "id": "acd136fd",
   "metadata": {},
   "outputs": [],
   "source": [
    "# looking top 10 and bottom 10 countries"
   ]
  },
  {
   "cell_type": "code",
   "execution_count": 47,
   "id": "29220ccf",
   "metadata": {},
   "outputs": [
    {
     "data": {
      "image/png": "[encoded data removed]",
      "text/plain": [
       "<Figure size 1000x500 with 1 Axes>"
      ]
     },
     "metadata": {},
     "output_type": "display_data"
    }
   ],
   "source": [
    "top10 = expectancy_country.head(10)\n",
    "top10 = top10.plot(kind='bar', figsize=(10, 5))\n",
    "top10.set_ylabel('Life expectancy and health expectancy')\n",
    "top10.set_xlabel('Country')\n",
    "plt.xticks(rotation=30)\n",
    "plt.title('Top 10 Life Expectancy vs Healthy Life Expectancy Distribution')\n",
    "plt.show()"
   ]
  },
  {
   "cell_type": "code",
   "execution_count": 48,
   "id": "a9eb60e6",
   "metadata": {},
   "outputs": [
    {
     "data": {
      "image/png": "[encoded data removed]",
      "text/plain": [
       "<Figure size 1000x500 with 1 Axes>"
      ]
     },
     "metadata": {},
     "output_type": "display_data"
    }
   ],
   "source": [
    "bottom10 = expectancy_country.tail(10)\n",
    "bottom10 = bottom10.plot(kind='bar', figsize=(10, 5))\n",
    "bottom10.set_ylabel('Years')\n",
    "bottom10.set_xlabel('Country')\n",
    "plt.xticks(rotation=30)\n",
    "plt.title('Bottom 10 Life Expectancy vs Healthy Life Expectancy Distribution')\n",
    "plt.show()"
   ]
  },
  {
   "cell_type": "markdown",
   "id": "bfd1b760",
   "metadata": {},
   "source": [
    "Looking trends of life exepctancy and healthy life expectancy through time."
   ]
  },
  {
   "cell_type": "code",
   "execution_count": 49,
   "id": "66872913",
   "metadata": {
    "scrolled": true
   },
   "outputs": [
    {
     "data": {
      "text/html": [
       "<div>\n",
       "<style scoped>\n",
       "    .dataframe tbody tr th:only-of-type {\n",
       "        vertical-align: middle;\n",
       "    }\n",
       "\n",
       "    .dataframe tbody tr th {\n",
       "        vertical-align: top;\n",
       "    }\n",
       "\n",
       "    .dataframe thead th {\n",
       "        text-align: right;\n",
       "    }\n",
       "</style>\n",
       "<table border=\"1\" class=\"dataframe\">\n",
       "  <thead>\n",
       "    <tr style=\"text-align: right;\">\n",
       "      <th></th>\n",
       "      <th>Life expectancy</th>\n",
       "      <th>Healthy_Life expectancy</th>\n",
       "    </tr>\n",
       "    <tr>\n",
       "      <th>Year</th>\n",
       "      <th></th>\n",
       "      <th></th>\n",
       "    </tr>\n",
       "  </thead>\n",
       "  <tbody>\n",
       "    <tr>\n",
       "      <th>1990</th>\n",
       "      <td>65.409605</td>\n",
       "      <td>NaN</td>\n",
       "    </tr>\n",
       "    <tr>\n",
       "      <th>2000</th>\n",
       "      <td>66.997175</td>\n",
       "      <td>58.107345</td>\n",
       "    </tr>\n",
       "    <tr>\n",
       "      <th>2012</th>\n",
       "      <td>71.011299</td>\n",
       "      <td>61.463277</td>\n",
       "    </tr>\n",
       "    <tr>\n",
       "      <th>2013</th>\n",
       "      <td>71.313559</td>\n",
       "      <td>61.768362</td>\n",
       "    </tr>\n",
       "  </tbody>\n",
       "</table>\n",
       "</div>"
      ],
      "text/plain": [
       "      Life expectancy  Healthy_Life expectancy\n",
       "Year                                          \n",
       "1990        65.409605                      NaN\n",
       "2000        66.997175                58.107345\n",
       "2012        71.011299                61.463277\n",
       "2013        71.313559                61.768362"
      ]
     },
     "execution_count": 49,
     "metadata": {},
     "output_type": "execute_result"
    }
   ],
   "source": [
    "expectancy_year = combine_df.groupby('Year')[['Life expectancy','Healthy_Life expectancy']].mean()\n",
    "expectancy_year.head()"
   ]
  },
  {
   "cell_type": "code",
   "execution_count": 50,
   "id": "7bee215a",
   "metadata": {},
   "outputs": [
    {
     "data": {
      "image/png": "[encoded data removed]",
      "text/plain": [
       "<Figure size 1000x500 with 1 Axes>"
      ]
     },
     "metadata": {},
     "output_type": "display_data"
    }
   ],
   "source": [
    "plt.figure(figsize=(10,5))\n",
    "\n",
    "expectancy_year['Life expectancy'].plot(kind='line', legend=True)\n",
    "expectancy_year['Healthy_Life expectancy'].plot(kind='line', legend=True)\n",
    "plt.title('Life and Healthy Life Expectancy in years')\n",
    "plt.xlabel('Year')\n",
    "plt.ylabel('Life and Healthy Expectancy')\n",
    "plt.show()"
   ]
  },
  {
   "cell_type": "markdown",
   "id": "c330bb24",
   "metadata": {},
   "source": [
    "AS the year in progress, life expectancy and health expectancy are increasing."
   ]
  },
  {
   "cell_type": "markdown",
   "id": "17d03ece",
   "metadata": {},
   "source": [
    "The line graph showed me there is no data of health life expectancy in 1900's. Let me check it."
   ]
  },
  {
   "cell_type": "code",
   "execution_count": 51,
   "id": "44292cba",
   "metadata": {},
   "outputs": [
    {
     "data": {
      "text/html": [
       "<div>\n",
       "<style scoped>\n",
       "    .dataframe tbody tr th:only-of-type {\n",
       "        vertical-align: middle;\n",
       "    }\n",
       "\n",
       "    .dataframe tbody tr th {\n",
       "        vertical-align: top;\n",
       "    }\n",
       "\n",
       "    .dataframe thead th {\n",
       "        text-align: right;\n",
       "    }\n",
       "</style>\n",
       "<table border=\"1\" class=\"dataframe\">\n",
       "  <thead>\n",
       "    <tr style=\"text-align: right;\">\n",
       "      <th></th>\n",
       "      <th>GhoCode</th>\n",
       "      <th>Gho</th>\n",
       "      <th>Year</th>\n",
       "      <th>Region</th>\n",
       "      <th>IncomeGroup</th>\n",
       "      <th>Country</th>\n",
       "      <th>Sex</th>\n",
       "      <th>Value</th>\n",
       "      <th>Life expectancy</th>\n",
       "      <th>Healthy_Life expectancy</th>\n",
       "      <th>Entity</th>\n",
       "      <th>PPP</th>\n",
       "      <th>Population</th>\n",
       "      <th>BMI</th>\n",
       "    </tr>\n",
       "  </thead>\n",
       "  <tbody>\n",
       "    <tr>\n",
       "      <th>624456</th>\n",
       "      <td>WHOSIS_000001</td>\n",
       "      <td>Life expectancy at birth (years)</td>\n",
       "      <td>1990</td>\n",
       "      <td>Eastern Mediterranean</td>\n",
       "      <td>Low_income</td>\n",
       "      <td>Afghanistan</td>\n",
       "      <td>Female</td>\n",
       "      <td>50</td>\n",
       "      <td>50.0</td>\n",
       "      <td>NaN</td>\n",
       "      <td>Afghanistan</td>\n",
       "      <td>NaN</td>\n",
       "      <td>10694804.0</td>\n",
       "      <td>20.866283</td>\n",
       "    </tr>\n",
       "    <tr>\n",
       "      <th>624459</th>\n",
       "      <td>WHOSIS_000001</td>\n",
       "      <td>Life expectancy at birth (years)</td>\n",
       "      <td>1990</td>\n",
       "      <td>Eastern Mediterranean</td>\n",
       "      <td>Low_income</td>\n",
       "      <td>Afghanistan</td>\n",
       "      <td>Female</td>\n",
       "      <td>50</td>\n",
       "      <td>50.0</td>\n",
       "      <td>NaN</td>\n",
       "      <td>Albania</td>\n",
       "      <td>NaN</td>\n",
       "      <td>3295073.0</td>\n",
       "      <td>20.866283</td>\n",
       "    </tr>\n",
       "    <tr>\n",
       "      <th>624460</th>\n",
       "      <td>WHOSIS_000001</td>\n",
       "      <td>Life expectancy at birth (years)</td>\n",
       "      <td>1990</td>\n",
       "      <td>Eastern Mediterranean</td>\n",
       "      <td>Low_income</td>\n",
       "      <td>Afghanistan</td>\n",
       "      <td>Female</td>\n",
       "      <td>50</td>\n",
       "      <td>50.0</td>\n",
       "      <td>NaN</td>\n",
       "      <td>Algeria</td>\n",
       "      <td>NaN</td>\n",
       "      <td>25518074.0</td>\n",
       "      <td>20.866283</td>\n",
       "    </tr>\n",
       "  </tbody>\n",
       "</table>\n",
       "</div>"
      ],
      "text/plain": [
       "              GhoCode                               Gho  Year  \\\n",
       "624456  WHOSIS_000001  Life expectancy at birth (years)  1990   \n",
       "624459  WHOSIS_000001  Life expectancy at birth (years)  1990   \n",
       "624460  WHOSIS_000001  Life expectancy at birth (years)  1990   \n",
       "\n",
       "                       Region IncomeGroup      Country     Sex  Value  \\\n",
       "624456  Eastern Mediterranean  Low_income  Afghanistan  Female     50   \n",
       "624459  Eastern Mediterranean  Low_income  Afghanistan  Female     50   \n",
       "624460  Eastern Mediterranean  Low_income  Afghanistan  Female     50   \n",
       "\n",
       "        Life expectancy  Healthy_Life expectancy       Entity  PPP  \\\n",
       "624456             50.0                      NaN  Afghanistan  NaN   \n",
       "624459             50.0                      NaN      Albania  NaN   \n",
       "624460             50.0                      NaN      Algeria  NaN   \n",
       "\n",
       "        Population        BMI  \n",
       "624456  10694804.0  20.866283  \n",
       "624459   3295073.0  20.866283  \n",
       "624460  25518074.0  20.866283  "
      ]
     },
     "execution_count": 51,
     "metadata": {},
     "output_type": "execute_result"
    }
   ],
   "source": [
    "df = combine_df.loc[combine_df['Year']== 1990]\n",
    "df.head(3)"
   ]
  },
  {
   "cell_type": "code",
   "execution_count": 52,
   "id": "5a1f9144",
   "metadata": {},
   "outputs": [
    {
     "data": {
      "text/html": [
       "<div>\n",
       "<style scoped>\n",
       "    .dataframe tbody tr th:only-of-type {\n",
       "        vertical-align: middle;\n",
       "    }\n",
       "\n",
       "    .dataframe tbody tr th {\n",
       "        vertical-align: top;\n",
       "    }\n",
       "\n",
       "    .dataframe thead th {\n",
       "        text-align: right;\n",
       "    }\n",
       "</style>\n",
       "<table border=\"1\" class=\"dataframe\">\n",
       "  <thead>\n",
       "    <tr style=\"text-align: right;\">\n",
       "      <th></th>\n",
       "      <th>GhoCode</th>\n",
       "      <th>Gho</th>\n",
       "      <th>Year</th>\n",
       "      <th>Region</th>\n",
       "      <th>IncomeGroup</th>\n",
       "      <th>Country</th>\n",
       "      <th>Sex</th>\n",
       "      <th>Value</th>\n",
       "      <th>Life expectancy</th>\n",
       "      <th>Healthy_Life expectancy</th>\n",
       "      <th>Entity</th>\n",
       "      <th>PPP</th>\n",
       "      <th>Population</th>\n",
       "      <th>BMI</th>\n",
       "    </tr>\n",
       "  </thead>\n",
       "  <tbody>\n",
       "  </tbody>\n",
       "</table>\n",
       "</div>"
      ],
      "text/plain": [
       "Empty DataFrame\n",
       "Columns: [GhoCode, Gho, Year, Region, IncomeGroup, Country, Sex, Value, Life expectancy, Healthy_Life expectancy, Entity, PPP, Population, BMI]\n",
       "Index: []"
      ]
     },
     "execution_count": 52,
     "metadata": {},
     "output_type": "execute_result"
    }
   ],
   "source": [
    "df.loc[~df['Healthy_Life expectancy'].isna()]"
   ]
  },
  {
   "cell_type": "markdown",
   "id": "19a7cc13",
   "metadata": {},
   "source": [
    "How does the number of healthy years lose change overtime?"
   ]
  },
  {
   "cell_type": "code",
   "execution_count": 53,
   "id": "493ad991",
   "metadata": {},
   "outputs": [],
   "source": [
    "# I create a new column called healthy year lose dueto disability,illness or any other factors."
   ]
  },
  {
   "cell_type": "code",
   "execution_count": 54,
   "id": "f7c01e75",
   "metadata": {},
   "outputs": [
    {
     "data": {
      "text/html": [
       "<div>\n",
       "<style scoped>\n",
       "    .dataframe tbody tr th:only-of-type {\n",
       "        vertical-align: middle;\n",
       "    }\n",
       "\n",
       "    .dataframe tbody tr th {\n",
       "        vertical-align: top;\n",
       "    }\n",
       "\n",
       "    .dataframe thead th {\n",
       "        text-align: right;\n",
       "    }\n",
       "</style>\n",
       "<table border=\"1\" class=\"dataframe\">\n",
       "  <thead>\n",
       "    <tr style=\"text-align: right;\">\n",
       "      <th></th>\n",
       "      <th>Life expectancy</th>\n",
       "      <th>Healthy_Life expectancy</th>\n",
       "      <th>Healthy_Year_lose</th>\n",
       "    </tr>\n",
       "    <tr>\n",
       "      <th>Year</th>\n",
       "      <th></th>\n",
       "      <th></th>\n",
       "      <th></th>\n",
       "    </tr>\n",
       "  </thead>\n",
       "  <tbody>\n",
       "    <tr>\n",
       "      <th>1990</th>\n",
       "      <td>65.409605</td>\n",
       "      <td>NaN</td>\n",
       "      <td>NaN</td>\n",
       "    </tr>\n",
       "    <tr>\n",
       "      <th>2000</th>\n",
       "      <td>66.997175</td>\n",
       "      <td>58.107345</td>\n",
       "      <td>8.889831</td>\n",
       "    </tr>\n",
       "    <tr>\n",
       "      <th>2012</th>\n",
       "      <td>71.011299</td>\n",
       "      <td>61.463277</td>\n",
       "      <td>9.548023</td>\n",
       "    </tr>\n",
       "    <tr>\n",
       "      <th>2013</th>\n",
       "      <td>71.313559</td>\n",
       "      <td>61.768362</td>\n",
       "      <td>9.545198</td>\n",
       "    </tr>\n",
       "  </tbody>\n",
       "</table>\n",
       "</div>"
      ],
      "text/plain": [
       "      Life expectancy  Healthy_Life expectancy  Healthy_Year_lose\n",
       "Year                                                             \n",
       "1990        65.409605                      NaN                NaN\n",
       "2000        66.997175                58.107345           8.889831\n",
       "2012        71.011299                61.463277           9.548023\n",
       "2013        71.313559                61.768362           9.545198"
      ]
     },
     "execution_count": 54,
     "metadata": {},
     "output_type": "execute_result"
    }
   ],
   "source": [
    "expectancy_year['Healthy_Year_lose'] = expectancy_year['Life expectancy'] - expectancy_year['Healthy_Life expectancy']\n",
    "expectancy_year.head()"
   ]
  },
  {
   "cell_type": "code",
   "execution_count": 55,
   "id": "0a883352",
   "metadata": {},
   "outputs": [
    {
     "data": {
      "image/png": "[encoded data removed]",
      "text/plain": [
       "<Figure size 800x400 with 1 Axes>"
      ]
     },
     "metadata": {},
     "output_type": "display_data"
    }
   ],
   "source": [
    "# use stacked area chart.\n",
    "\n",
    "plt.figure(figsize = (8,4))\n",
    "plt.stackplot(expectancy_year.index,\n",
    "              expectancy_year['Life expectancy'],\n",
    "              expectancy_year['Healthy_Life expectancy'],\n",
    "              expectancy_year['Healthy_Year_lose'],\n",
    "              labels=['Life expectancy','Healthy_Life expectancy','Healthy_Year_lose'])\n",
    "\n",
    "plt.legend(loc='upper left')\n",
    "plt.xlabel('Year')\n",
    "plt.ylabel('Values')\n",
    "plt.title('Healthy Year lose overtime')\n",
    "\n",
    "plt.show()            "
   ]
  },
  {
   "cell_type": "code",
   "execution_count": 56,
   "id": "17cf0ecc",
   "metadata": {},
   "outputs": [
    {
     "data": {
      "text/plain": [
       "9.327683615819206"
      ]
     },
     "execution_count": 56,
     "metadata": {},
     "output_type": "execute_result"
    }
   ],
   "source": [
    "average_healthyyear_loss_trough_lifespan = expectancy_year.Healthy_Year_lose.mean()\n",
    "average_healthyyear_loss_trough_lifespan"
   ]
  },
  {
   "cell_type": "markdown",
   "id": "3bbf6e3c",
   "metadata": {},
   "source": [
    "The average healthy year lose disability is 9.33 years. The higher life expectancy assocaited with the higher healthy year lose disability."
   ]
  },
  {
   "cell_type": "code",
   "execution_count": null,
   "id": "21c0fb55",
   "metadata": {
    "scrolled": false
   },
   "outputs": [],
   "source": []
  },
  {
   "cell_type": "code",
   "execution_count": 57,
   "id": "06b3b67a",
   "metadata": {},
   "outputs": [],
   "source": [
    "# Healthy life expectancy by region"
   ]
  },
  {
   "cell_type": "code",
   "execution_count": 61,
   "id": "8e0ebfa9",
   "metadata": {},
   "outputs": [
    {
     "ename": "NameError",
     "evalue": "name 'px' is not defined",
     "output_type": "error",
     "traceback": [
      "\u001b[1;31m---------------------------------------------------------------------------\u001b[0m",
      "\u001b[1;31mNameError\u001b[0m                                 Traceback (most recent call last)",
      "Cell \u001b[1;32mIn[61], line 1\u001b[0m\n\u001b[1;32m----> 1\u001b[0m px\u001b[38;5;241m.\u001b[39mchoropleth(combine_df, locations\u001b[38;5;241m=\u001b[39m\u001b[38;5;124m\"\u001b[39m\u001b[38;5;124mRegion\u001b[39m\u001b[38;5;124m\"\u001b[39m,\n\u001b[0;32m      2\u001b[0m               color\u001b[38;5;241m=\u001b[39m\u001b[38;5;124m\"\u001b[39m\u001b[38;5;124mRegion\u001b[39m\u001b[38;5;124m\"\u001b[39m,\n\u001b[0;32m      3\u001b[0m               hover_name\u001b[38;5;241m=\u001b[39m \u001b[38;5;124m\"\u001b[39m\u001b[38;5;124mBMI\u001b[39m\u001b[38;5;124m\"\u001b[39m,\n\u001b[0;32m      4\u001b[0m               animation_frame\u001b[38;5;241m=\u001b[39m\u001b[38;5;124m\"\u001b[39m\u001b[38;5;124mYear\u001b[39m\u001b[38;5;124m\"\u001b[39m,\n\u001b[0;32m      5\u001b[0m               range_color\u001b[38;5;241m=\u001b[39m[\u001b[38;5;241m20\u001b[39m,\u001b[38;5;241m20\u001b[39m])\n",
      "\u001b[1;31mNameError\u001b[0m: name 'px' is not defined"
     ]
    }
   ],
   "source": [
    "px.choropleth(combine_df, locations=\"Region\",\n",
    "              color=\"Region\",\n",
    "              hover_name= \"BMI\",\n",
    "              animation_frame=\"Year\",\n",
    "              range_color=[20,20])\n"
   ]
  },
  {
   "cell_type": "code",
   "execution_count": null,
   "id": "abce4237",
   "metadata": {},
   "outputs": [],
   "source": []
  },
  {
   "cell_type": "markdown",
   "id": "cfacb802",
   "metadata": {},
   "source": [
    "How does healthy life expectancy correlate with life expectancy, health expenditure, BMI and population in different demographic groups such as age, geographical regions and income groups across the world?\n",
    "What is the relationship between healthy life expectancy and BMI through time? Are there any patterns based on different BMI categories, and does it affect by gender?"
   ]
  },
  {
   "cell_type": "code",
   "execution_count": null,
   "id": "3fb9b624",
   "metadata": {},
   "outputs": [],
   "source": [
    "combine_df.corr(numeric_only=True)"
   ]
  },
  {
   "cell_type": "code",
   "execution_count": 62,
   "id": "74302787",
   "metadata": {},
   "outputs": [
    {
     "data": {
      "image/png": "[encoded data removed]",
      "text/plain": [
       "<Figure size 800x600 with 2 Axes>"
      ]
     },
     "metadata": {},
     "output_type": "display_data"
    }
   ],
   "source": [
    "correlation = combine_df[['PPP','Population','BMI','Life expectancy','Healthy_Life expectancy']].corr()\n",
    "\n",
    "# Create a heatmap\n",
    "plt.figure(figsize=(8, 6))\n",
    "sns.heatmap(correlation, annot=True, cmap='Oranges', fmt='.2f', linewidths=0.5)\n",
    "plt.title('Correlation between Life Expectancy and Healthy Life Expectancy')\n",
    "plt.show()"
   ]
  },
  {
   "cell_type": "markdown",
   "id": "e9a54862",
   "metadata": {},
   "source": [
    "From my correlation graph,body mass index(BMI)has a strong postive correlation with healthy life expectancy and life expectancy.\n",
    "Population has a very week negative corelation.And healthy expenditure per captial(PPP) has a very weak postive correlation.\n",
    "I was expecting a strong positive relation with healthy life expectancy."
   ]
  },
  {
   "cell_type": "markdown",
   "id": "dade2743",
   "metadata": {},
   "source": [
    "So let me to explore more about BMI relation to health life expectancy."
   ]
  },
  {
   "cell_type": "markdown",
   "id": "9d6d7344",
   "metadata": {},
   "source": [
    "let me look at the distribution of BMI globally."
   ]
  },
  {
   "cell_type": "code",
   "execution_count": null,
   "id": "87771d7e",
   "metadata": {},
   "outputs": [],
   "source": [
    "# Body mass index, known as BMI, is often used to diagnose obesity."
   ]
  },
  {
   "cell_type": "code",
   "execution_count": null,
   "id": "572c24b2",
   "metadata": {},
   "outputs": [],
   "source": [
    "# BMI overtime"
   ]
  },
  {
   "cell_type": "code",
   "execution_count": 63,
   "id": "ff9aee9a",
   "metadata": {},
   "outputs": [
    {
     "name": "stderr",
     "output_type": "stream",
     "text": [
      "C:\\Users\\fozey\\AppData\\Local\\Temp\\ipykernel_53732\\1293605284.py:1: SettingWithCopyWarning: \n",
      "A value is trying to be set on a copy of a slice from a DataFrame.\n",
      "Try using .loc[row_indexer,col_indexer] = value instead\n",
      "\n",
      "See the caveats in the documentation: https://pandas.pydata.org/pandas-docs/stable/user_guide/indexing.html#returning-a-view-versus-a-copy\n",
      "  combine_df['Year'] = combine_df['Year'].astype(int)\n",
      "C:\\Users\\fozey\\AppData\\Local\\Temp\\ipykernel_53732\\1293605284.py:4: UserWarning: \n",
      "\n",
      "`distplot` is a deprecated function and will be removed in seaborn v0.14.0.\n",
      "\n",
      "Please adapt your code to use either `displot` (a figure-level function with\n",
      "similar flexibility) or `kdeplot` (an axes-level function for kernel density plots).\n",
      "\n",
      "For a guide to updating your code to use the new functions, please see\n",
      "https://gist.github.com/mwaskom/de44147ed2974457ad6372750bbe5751\n",
      "\n",
      "  sns.distplot(combine_df[combine_df['Year'] == 1990].BMI, hist=False, label='1990')\n",
      "C:\\Users\\fozey\\AppData\\Local\\Temp\\ipykernel_53732\\1293605284.py:5: UserWarning: \n",
      "\n",
      "`distplot` is a deprecated function and will be removed in seaborn v0.14.0.\n",
      "\n",
      "Please adapt your code to use either `displot` (a figure-level function with\n",
      "similar flexibility) or `kdeplot` (an axes-level function for kernel density plots).\n",
      "\n",
      "For a guide to updating your code to use the new functions, please see\n",
      "https://gist.github.com/mwaskom/de44147ed2974457ad6372750bbe5751\n",
      "\n",
      "  sns.distplot(combine_df[combine_df['Year'] == 2000].BMI, hist=False, label='2000')\n",
      "C:\\Users\\fozey\\AppData\\Local\\Temp\\ipykernel_53732\\1293605284.py:6: UserWarning: \n",
      "\n",
      "`distplot` is a deprecated function and will be removed in seaborn v0.14.0.\n",
      "\n",
      "Please adapt your code to use either `displot` (a figure-level function with\n",
      "similar flexibility) or `kdeplot` (an axes-level function for kernel density plots).\n",
      "\n",
      "For a guide to updating your code to use the new functions, please see\n",
      "https://gist.github.com/mwaskom/de44147ed2974457ad6372750bbe5751\n",
      "\n",
      "  sns.distplot(combine_df[combine_df['Year'] == 2012].BMI, hist=False, label='2012')\n",
      "C:\\Users\\fozey\\AppData\\Local\\Temp\\ipykernel_53732\\1293605284.py:7: UserWarning: \n",
      "\n",
      "`distplot` is a deprecated function and will be removed in seaborn v0.14.0.\n",
      "\n",
      "Please adapt your code to use either `displot` (a figure-level function with\n",
      "similar flexibility) or `kdeplot` (an axes-level function for kernel density plots).\n",
      "\n",
      "For a guide to updating your code to use the new functions, please see\n",
      "https://gist.github.com/mwaskom/de44147ed2974457ad6372750bbe5751\n",
      "\n",
      "  sns.distplot(combine_df[combine_df['Year'] == 2013].BMI, hist=False, label='2013')\n"
     ]
    },
    {
     "data": {
      "text/plain": [
       "<matplotlib.legend.Legend at 0x1c38177d450>"
      ]
     },
     "execution_count": 63,
     "metadata": {},
     "output_type": "execute_result"
    },
    {
     "data": {
      "image/png": "[encoded data removed]",
      "text/plain": [
       "<Figure size 1200x600 with 1 Axes>"
      ]
     },
     "metadata": {},
     "output_type": "display_data"
    }
   ],
   "source": [
    "combine_df['Year'] = combine_df['Year'].astype(int)\n",
    "fig = plt.figure(figsize=(12, 6))\n",
    "\n",
    "sns.distplot(combine_df[combine_df['Year'] == 1990].BMI, hist=False, label='1990')\n",
    "sns.distplot(combine_df[combine_df['Year'] == 2000].BMI, hist=False, label='2000')\n",
    "sns.distplot(combine_df[combine_df['Year'] == 2012].BMI, hist=False, label='2012')\n",
    "sns.distplot(combine_df[combine_df['Year'] == 2013].BMI, hist=False, label='2013')\n",
    "\n",
    "plt.title('BMI Distribution Across the World', size=20)\n",
    "plt.xlabel('BMI')\n",
    "plt.legend()"
   ]
  },
  {
   "cell_type": "code",
   "execution_count": 69,
   "id": "091f0e9a",
   "metadata": {},
   "outputs": [
    {
     "data": {
      "text/plain": [
       "Text(0.5, 1.0, 'Scatter plot of BMI')"
      ]
     },
     "execution_count": 69,
     "metadata": {},
     "output_type": "execute_result"
    },
    {
     "data": {
      "image/png": "[encoded data removed]",
      "text/plain": [
       "<Figure size 600x400 with 1 Axes>"
      ]
     },
     "metadata": {},
     "output_type": "display_data"
    }
   ],
   "source": [
    "plt.figure(figsize=(6,4))\n",
    "ax = sns.scatterplot(x=combine_df['Sex'],y=combine_df['BMI'],data=combine_df,palette='magma',hue='Sex')\n",
    "ax.set_title('Scatter plot of BMI')"
   ]
  },
  {
   "cell_type": "raw",
   "id": "c0ba1172",
   "metadata": {},
   "source": [
    "BMI calculator\n",
    "\n",
    " BMI Weight           status\n",
    " Below 18.5\t       Underweight\n",
    " 18.5-24.9\t       Healthy\n",
    " 25.0-29.9\t       Overweight\n",
    " 30.0 and higher   Obesity"
   ]
  },
  {
   "cell_type": "code",
   "execution_count": 65,
   "id": "960880eb",
   "metadata": {},
   "outputs": [],
   "source": [
    "# Add a new column called Status based on BMI weight."
   ]
  },
  {
   "cell_type": "code",
   "execution_count": 66,
   "id": "6bb219c9",
   "metadata": {},
   "outputs": [
    {
     "name": "stderr",
     "output_type": "stream",
     "text": [
      "C:\\Users\\fozey\\AppData\\Local\\Temp\\ipykernel_53732\\1691218967.py:1: SettingWithCopyWarning: \n",
      "A value is trying to be set on a copy of a slice from a DataFrame.\n",
      "Try using .loc[row_indexer,col_indexer] = value instead\n",
      "\n",
      "See the caveats in the documentation: https://pandas.pydata.org/pandas-docs/stable/user_guide/indexing.html#returning-a-view-versus-a-copy\n",
      "  combine_df['BMI'] = combine_df['BMI'].round(1)\n"
     ]
    },
    {
     "data": {
      "text/html": [
       "<div>\n",
       "<style scoped>\n",
       "    .dataframe tbody tr th:only-of-type {\n",
       "        vertical-align: middle;\n",
       "    }\n",
       "\n",
       "    .dataframe tbody tr th {\n",
       "        vertical-align: top;\n",
       "    }\n",
       "\n",
       "    .dataframe thead th {\n",
       "        text-align: right;\n",
       "    }\n",
       "</style>\n",
       "<table border=\"1\" class=\"dataframe\">\n",
       "  <thead>\n",
       "    <tr style=\"text-align: right;\">\n",
       "      <th></th>\n",
       "      <th>GhoCode</th>\n",
       "      <th>Gho</th>\n",
       "      <th>Year</th>\n",
       "      <th>Region</th>\n",
       "      <th>IncomeGroup</th>\n",
       "      <th>Country</th>\n",
       "      <th>Sex</th>\n",
       "      <th>Value</th>\n",
       "      <th>Life expectancy</th>\n",
       "      <th>Healthy_Life expectancy</th>\n",
       "      <th>Entity</th>\n",
       "      <th>PPP</th>\n",
       "      <th>Population</th>\n",
       "      <th>BMI</th>\n",
       "    </tr>\n",
       "  </thead>\n",
       "  <tbody>\n",
       "    <tr>\n",
       "      <th>0</th>\n",
       "      <td>WHOSIS_000001</td>\n",
       "      <td>Life expectancy at birth (years)</td>\n",
       "      <td>2013</td>\n",
       "      <td>Eastern Mediterranean</td>\n",
       "      <td>NaN</td>\n",
       "      <td>Afghanistan</td>\n",
       "      <td>Male</td>\n",
       "      <td>61</td>\n",
       "      <td>61.0</td>\n",
       "      <td>NaN</td>\n",
       "      <td>Afghanistan</td>\n",
       "      <td>174.05948</td>\n",
       "      <td>31541216.0</td>\n",
       "      <td>22.4</td>\n",
       "    </tr>\n",
       "    <tr>\n",
       "      <th>3</th>\n",
       "      <td>WHOSIS_000001</td>\n",
       "      <td>Life expectancy at birth (years)</td>\n",
       "      <td>2013</td>\n",
       "      <td>Eastern Mediterranean</td>\n",
       "      <td>NaN</td>\n",
       "      <td>Afghanistan</td>\n",
       "      <td>Male</td>\n",
       "      <td>61</td>\n",
       "      <td>61.0</td>\n",
       "      <td>NaN</td>\n",
       "      <td>Albania</td>\n",
       "      <td>567.60480</td>\n",
       "      <td>2887019.0</td>\n",
       "      <td>22.4</td>\n",
       "    </tr>\n",
       "    <tr>\n",
       "      <th>4</th>\n",
       "      <td>WHOSIS_000001</td>\n",
       "      <td>Life expectancy at birth (years)</td>\n",
       "      <td>2013</td>\n",
       "      <td>Eastern Mediterranean</td>\n",
       "      <td>NaN</td>\n",
       "      <td>Afghanistan</td>\n",
       "      <td>Male</td>\n",
       "      <td>61</td>\n",
       "      <td>61.0</td>\n",
       "      <td>NaN</td>\n",
       "      <td>Algeria</td>\n",
       "      <td>788.07680</td>\n",
       "      <td>38000628.0</td>\n",
       "      <td>22.4</td>\n",
       "    </tr>\n",
       "    <tr>\n",
       "      <th>5</th>\n",
       "      <td>WHOSIS_000001</td>\n",
       "      <td>Life expectancy at birth (years)</td>\n",
       "      <td>2013</td>\n",
       "      <td>Eastern Mediterranean</td>\n",
       "      <td>NaN</td>\n",
       "      <td>Afghanistan</td>\n",
       "      <td>Male</td>\n",
       "      <td>61</td>\n",
       "      <td>61.0</td>\n",
       "      <td>NaN</td>\n",
       "      <td>American Samoa</td>\n",
       "      <td>NaN</td>\n",
       "      <td>53017.0</td>\n",
       "      <td>22.4</td>\n",
       "    </tr>\n",
       "    <tr>\n",
       "      <th>6</th>\n",
       "      <td>WHOSIS_000001</td>\n",
       "      <td>Life expectancy at birth (years)</td>\n",
       "      <td>2013</td>\n",
       "      <td>Eastern Mediterranean</td>\n",
       "      <td>NaN</td>\n",
       "      <td>Afghanistan</td>\n",
       "      <td>Male</td>\n",
       "      <td>61</td>\n",
       "      <td>61.0</td>\n",
       "      <td>NaN</td>\n",
       "      <td>Andorra</td>\n",
       "      <td>2755.26500</td>\n",
       "      <td>71385.0</td>\n",
       "      <td>22.4</td>\n",
       "    </tr>\n",
       "  </tbody>\n",
       "</table>\n",
       "</div>"
      ],
      "text/plain": [
       "         GhoCode                               Gho  Year  \\\n",
       "0  WHOSIS_000001  Life expectancy at birth (years)  2013   \n",
       "3  WHOSIS_000001  Life expectancy at birth (years)  2013   \n",
       "4  WHOSIS_000001  Life expectancy at birth (years)  2013   \n",
       "5  WHOSIS_000001  Life expectancy at birth (years)  2013   \n",
       "6  WHOSIS_000001  Life expectancy at birth (years)  2013   \n",
       "\n",
       "                  Region IncomeGroup      Country   Sex  Value  \\\n",
       "0  Eastern Mediterranean         NaN  Afghanistan  Male     61   \n",
       "3  Eastern Mediterranean         NaN  Afghanistan  Male     61   \n",
       "4  Eastern Mediterranean         NaN  Afghanistan  Male     61   \n",
       "5  Eastern Mediterranean         NaN  Afghanistan  Male     61   \n",
       "6  Eastern Mediterranean         NaN  Afghanistan  Male     61   \n",
       "\n",
       "   Life expectancy  Healthy_Life expectancy          Entity         PPP  \\\n",
       "0             61.0                      NaN     Afghanistan   174.05948   \n",
       "3             61.0                      NaN         Albania   567.60480   \n",
       "4             61.0                      NaN         Algeria   788.07680   \n",
       "5             61.0                      NaN  American Samoa         NaN   \n",
       "6             61.0                      NaN         Andorra  2755.26500   \n",
       "\n",
       "   Population   BMI  \n",
       "0  31541216.0  22.4  \n",
       "3   2887019.0  22.4  \n",
       "4  38000628.0  22.4  \n",
       "5     53017.0  22.4  \n",
       "6     71385.0  22.4  "
      ]
     },
     "execution_count": 66,
     "metadata": {},
     "output_type": "execute_result"
    }
   ],
   "source": [
    "combine_df['BMI'] = combine_df['BMI'].round(1)\n",
    "combine_df.head()"
   ]
  },
  {
   "cell_type": "code",
   "execution_count": 67,
   "id": "15b0db9d",
   "metadata": {},
   "outputs": [
    {
     "name": "stderr",
     "output_type": "stream",
     "text": [
      "C:\\Users\\fozey\\AppData\\Local\\Temp\\ipykernel_53732\\712216023.py:6: SettingWithCopyWarning: \n",
      "A value is trying to be set on a copy of a slice from a DataFrame.\n",
      "Try using .loc[row_indexer,col_indexer] = value instead\n",
      "\n",
      "See the caveats in the documentation: https://pandas.pydata.org/pandas-docs/stable/user_guide/indexing.html#returning-a-view-versus-a-copy\n",
      "  combine_df.loc[ind, 'Status'] = 'Healthy'\n"
     ]
    },
    {
     "data": {
      "text/html": [
       "<div>\n",
       "<style scoped>\n",
       "    .dataframe tbody tr th:only-of-type {\n",
       "        vertical-align: middle;\n",
       "    }\n",
       "\n",
       "    .dataframe tbody tr th {\n",
       "        vertical-align: top;\n",
       "    }\n",
       "\n",
       "    .dataframe thead th {\n",
       "        text-align: right;\n",
       "    }\n",
       "</style>\n",
       "<table border=\"1\" class=\"dataframe\">\n",
       "  <thead>\n",
       "    <tr style=\"text-align: right;\">\n",
       "      <th></th>\n",
       "      <th>GhoCode</th>\n",
       "      <th>Gho</th>\n",
       "      <th>Year</th>\n",
       "      <th>Region</th>\n",
       "      <th>IncomeGroup</th>\n",
       "      <th>Country</th>\n",
       "      <th>Sex</th>\n",
       "      <th>Value</th>\n",
       "      <th>Life expectancy</th>\n",
       "      <th>Healthy_Life expectancy</th>\n",
       "      <th>Entity</th>\n",
       "      <th>PPP</th>\n",
       "      <th>Population</th>\n",
       "      <th>BMI</th>\n",
       "      <th>Status</th>\n",
       "    </tr>\n",
       "  </thead>\n",
       "  <tbody>\n",
       "    <tr>\n",
       "      <th>0</th>\n",
       "      <td>WHOSIS_000001</td>\n",
       "      <td>Life expectancy at birth (years)</td>\n",
       "      <td>2013</td>\n",
       "      <td>Eastern Mediterranean</td>\n",
       "      <td>NaN</td>\n",
       "      <td>Afghanistan</td>\n",
       "      <td>Male</td>\n",
       "      <td>61</td>\n",
       "      <td>61.0</td>\n",
       "      <td>NaN</td>\n",
       "      <td>Afghanistan</td>\n",
       "      <td>174.05948</td>\n",
       "      <td>31541216.0</td>\n",
       "      <td>22.4</td>\n",
       "      <td>Healthy</td>\n",
       "    </tr>\n",
       "    <tr>\n",
       "      <th>3</th>\n",
       "      <td>WHOSIS_000001</td>\n",
       "      <td>Life expectancy at birth (years)</td>\n",
       "      <td>2013</td>\n",
       "      <td>Eastern Mediterranean</td>\n",
       "      <td>NaN</td>\n",
       "      <td>Afghanistan</td>\n",
       "      <td>Male</td>\n",
       "      <td>61</td>\n",
       "      <td>61.0</td>\n",
       "      <td>NaN</td>\n",
       "      <td>Albania</td>\n",
       "      <td>567.60480</td>\n",
       "      <td>2887019.0</td>\n",
       "      <td>22.4</td>\n",
       "      <td>Healthy</td>\n",
       "    </tr>\n",
       "    <tr>\n",
       "      <th>4</th>\n",
       "      <td>WHOSIS_000001</td>\n",
       "      <td>Life expectancy at birth (years)</td>\n",
       "      <td>2013</td>\n",
       "      <td>Eastern Mediterranean</td>\n",
       "      <td>NaN</td>\n",
       "      <td>Afghanistan</td>\n",
       "      <td>Male</td>\n",
       "      <td>61</td>\n",
       "      <td>61.0</td>\n",
       "      <td>NaN</td>\n",
       "      <td>Algeria</td>\n",
       "      <td>788.07680</td>\n",
       "      <td>38000628.0</td>\n",
       "      <td>22.4</td>\n",
       "      <td>Healthy</td>\n",
       "    </tr>\n",
       "    <tr>\n",
       "      <th>5</th>\n",
       "      <td>WHOSIS_000001</td>\n",
       "      <td>Life expectancy at birth (years)</td>\n",
       "      <td>2013</td>\n",
       "      <td>Eastern Mediterranean</td>\n",
       "      <td>NaN</td>\n",
       "      <td>Afghanistan</td>\n",
       "      <td>Male</td>\n",
       "      <td>61</td>\n",
       "      <td>61.0</td>\n",
       "      <td>NaN</td>\n",
       "      <td>American Samoa</td>\n",
       "      <td>NaN</td>\n",
       "      <td>53017.0</td>\n",
       "      <td>22.4</td>\n",
       "      <td>Healthy</td>\n",
       "    </tr>\n",
       "    <tr>\n",
       "      <th>6</th>\n",
       "      <td>WHOSIS_000001</td>\n",
       "      <td>Life expectancy at birth (years)</td>\n",
       "      <td>2013</td>\n",
       "      <td>Eastern Mediterranean</td>\n",
       "      <td>NaN</td>\n",
       "      <td>Afghanistan</td>\n",
       "      <td>Male</td>\n",
       "      <td>61</td>\n",
       "      <td>61.0</td>\n",
       "      <td>NaN</td>\n",
       "      <td>Andorra</td>\n",
       "      <td>2755.26500</td>\n",
       "      <td>71385.0</td>\n",
       "      <td>22.4</td>\n",
       "      <td>Healthy</td>\n",
       "    </tr>\n",
       "  </tbody>\n",
       "</table>\n",
       "</div>"
      ],
      "text/plain": [
       "         GhoCode                               Gho  Year  \\\n",
       "0  WHOSIS_000001  Life expectancy at birth (years)  2013   \n",
       "3  WHOSIS_000001  Life expectancy at birth (years)  2013   \n",
       "4  WHOSIS_000001  Life expectancy at birth (years)  2013   \n",
       "5  WHOSIS_000001  Life expectancy at birth (years)  2013   \n",
       "6  WHOSIS_000001  Life expectancy at birth (years)  2013   \n",
       "\n",
       "                  Region IncomeGroup      Country   Sex  Value  \\\n",
       "0  Eastern Mediterranean         NaN  Afghanistan  Male     61   \n",
       "3  Eastern Mediterranean         NaN  Afghanistan  Male     61   \n",
       "4  Eastern Mediterranean         NaN  Afghanistan  Male     61   \n",
       "5  Eastern Mediterranean         NaN  Afghanistan  Male     61   \n",
       "6  Eastern Mediterranean         NaN  Afghanistan  Male     61   \n",
       "\n",
       "   Life expectancy  Healthy_Life expectancy          Entity         PPP  \\\n",
       "0             61.0                      NaN     Afghanistan   174.05948   \n",
       "3             61.0                      NaN         Albania   567.60480   \n",
       "4             61.0                      NaN         Algeria   788.07680   \n",
       "5             61.0                      NaN  American Samoa         NaN   \n",
       "6             61.0                      NaN         Andorra  2755.26500   \n",
       "\n",
       "   Population   BMI   Status  \n",
       "0  31541216.0  22.4  Healthy  \n",
       "3   2887019.0  22.4  Healthy  \n",
       "4  38000628.0  22.4  Healthy  \n",
       "5     53017.0  22.4  Healthy  \n",
       "6     71385.0  22.4  Healthy  "
      ]
     },
     "execution_count": 67,
     "metadata": {},
     "output_type": "execute_result"
    }
   ],
   "source": [
    "for ind, row in combine_df.iterrows():\n",
    "   \n",
    "    if row['BMI'] < 18.5:\n",
    "        combine_df.loc[ind, 'Status'] = 'Underweight'\n",
    "    elif 18.5 <= row['BMI'] <= 24.9:\n",
    "        combine_df.loc[ind, 'Status'] = 'Healthy'\n",
    "    elif 25.0 <= row['BMI'] <= 29.9:\n",
    "        combine_df.loc[ind, 'Status'] = 'Overweight'\n",
    "    elif row['BMI'] >= 30:\n",
    "        combine_df.loc[ind, 'Status'] = 'Obesity'  \n",
    "    else:\n",
    "        combine_df.loc[ind, 'Status'] = 'NAN'\n",
    "combine_df.head()"
   ]
  },
  {
   "cell_type": "markdown",
   "id": "b76b0153",
   "metadata": {},
   "source": [
    "Healthy Life expectancy vs BMI"
   ]
  },
  {
   "cell_type": "code",
   "execution_count": 68,
   "id": "8c2d9c38",
   "metadata": {},
   "outputs": [
    {
     "data": {
      "image/png": "[encoded data removed]",
      "text/plain": [
       "<Figure size 640x480 with 1 Axes>"
      ]
     },
     "metadata": {},
     "output_type": "display_data"
    }
   ],
   "source": [
    "plt.scatter(x = combine_df['Status'],\n",
    "            y = combine_df['Healthy_Life expectancy'])\n",
    "plt.xlabel =('BMI')\n",
    "plt.ylabel =('Healthy life expectancy')\n",
    "plt.title= ('BMI vs Healthy life expectancy');"
   ]
  },
  {
   "cell_type": "markdown",
   "id": "854b1b67",
   "metadata": {},
   "source": [
    "There is no people who is underweight.From the scatter graph, people whose BMI status is healthy has higher healthy life expectancy and people who is obesed has lower healthy life expectancy."
   ]
  },
  {
   "cell_type": "code",
   "execution_count": null,
   "id": "4c3c6eee",
   "metadata": {},
   "outputs": [],
   "source": []
  },
  {
   "cell_type": "code",
   "execution_count": null,
   "id": "149af8a0",
   "metadata": {},
   "outputs": [],
   "source": [
    "combine_df.head(2)"
   ]
  },
  {
   "cell_type": "code",
   "execution_count": null,
   "id": "c574ffb2",
   "metadata": {},
   "outputs": [],
   "source": [
    "combine_df.to_csv('../data/capstone.csv', index = False)"
   ]
  },
  {
   "cell_type": "code",
   "execution_count": null,
   "id": "458cb7ba",
   "metadata": {},
   "outputs": [],
   "source": [
    "data = combine_df.to_csv('../data/capstone.csv', index = False)\n",
    "data"
   ]
  },
  {
   "cell_type": "code",
   "execution_count": null,
   "id": "6963ccf5",
   "metadata": {},
   "outputs": [],
   "source": []
  },
  {
   "cell_type": "code",
   "execution_count": null,
   "id": "312d6014",
   "metadata": {},
   "outputs": [],
   "source": []
  },
  {
   "cell_type": "code",
   "execution_count": null,
   "id": "d5885a9a",
   "metadata": {},
   "outputs": [],
   "source": []
  }
 ],
 "metadata": {
  "kernelspec": {
   "display_name": "Python 3 (ipykernel)",
   "language": "python",
   "name": "python3"
  },
  "language_info": {
   "codemirror_mode": {
    "name": "ipython",
    "version": 3
   },
   "file_extension": ".py",
   "mimetype": "text/x-python",
   "name": "python",
   "nbconvert_exporter": "python",
   "pygments_lexer": "ipython3",
   "version": "3.11.5"
  }
 },
 "nbformat": 4,
 "nbformat_minor": 5
}
